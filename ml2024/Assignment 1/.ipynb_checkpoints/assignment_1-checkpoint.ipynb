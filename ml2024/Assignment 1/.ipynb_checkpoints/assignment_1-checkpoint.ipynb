{
 "cells": [
  {
   "cell_type": "markdown",
   "id": "0378005a",
   "metadata": {
    "deletable": false,
    "editable": false,
    "nbgrader": {
     "cell_type": "markdown",
     "checksum": "0b0cb9a43805df7a4c4801f3e231f251",
     "grade": false,
     "grade_id": "cell-d8c0fc514422446a",
     "locked": true,
     "schema_version": 3,
     "solution": false,
     "task": false
    }
   },
   "source": [
    "# Assignment 1\n",
    "\n",
    "## Lecture 1 & 2 - Introduction & Regression\n",
    "\n",
    "## Learning Goals\n",
    "After successfully completing this assignment, you should be able to:\n",
    "\n",
    "- represent and manipulate numeric data using [`numpy`](https://numpy.org/doc/stable/reference/generated/numpy.array.html) arrays \n",
    "- represent and manipulate data using [`pandas`](https://pandas.pydata.org/docs/reference/api/pandas.DataFrame.html) dataframes \n",
    "- load data from a .csv file \n",
    "- be able to learn a linear hypothesis to predict labels of datapoints\n",
    "- be able to learn a polynomial hypothesis to predict labels of datapoints\n",
    "- understand the effect of enlarging the model on the resulting training error\n",
    "- understand the effect of enlarging the training set on the resulting training error\n"
   ]
  },
  {
   "cell_type": "markdown",
   "id": "acf1c5b7",
   "metadata": {
    "deletable": false,
    "editable": false,
    "nbgrader": {
     "cell_type": "markdown",
     "checksum": "2b8c837c58c940c3c1568cba46b1bc40",
     "grade": false,
     "grade_id": "cell-f578fc0dcf6978b2",
     "locked": true,
     "schema_version": 3,
     "solution": false,
     "task": false
    }
   },
   "source": [
    "# Table of Contents\n",
    "1. [Python basics](#Python-basics)\n",
    "2. [Linear Regression](#Linear-Regression)"
   ]
  },
  {
   "cell_type": "markdown",
   "id": "f30dbbf3",
   "metadata": {
    "deletable": false,
    "editable": false,
    "nbgrader": {
     "cell_type": "markdown",
     "checksum": "b6062bc72d84ae05425b0ffa931b3f1a",
     "grade": false,
     "grade_id": "cell-0c5bda59c6c5b42f",
     "locked": true,
     "schema_version": 3,
     "solution": false,
     "task": false
    }
   },
   "source": [
    "\n",
    "# General Instruction\n",
    "\n",
    "- Jupyter notebook is supposed to be run cell by cell in order, please do not skip any code cell, this will cause some errors. Also running cells back and forth sometimes might also incur errors. If you feel lost your track, you can click \"Kernel->Restart\" from the menu to restart the process.\n",
    "- Before submitting your assignment, ensure that it does not contain trivial errors by pressing the \"validate\" button at the top.\n",
    "- Your implementations are supposed to be added to the places where it reads \"YOUR CODE HERE\". Please also remove the \"raise NotImplementedError()\" line before submitting.\n",
    "- Please do NOT change the metadata of any cell, cells for demo and instructions are not editable.\n",
    "- You can copy lines of code from cells that are not editable, but please do NOT copy and paste them as cells, this may incur validation error.\n",
    "- You can add extra cells or code to help double-check your solution, but please make sure that variables required by tasks are not overwritten, or just delete those extra cells before submitting.\n",
    "    Remember that demos in previous assignments may also be helpful to solve tasks in the present notebook."
   ]
  },
  {
   "cell_type": "markdown",
   "id": "493e4833",
   "metadata": {
    "deletable": false,
    "editable": false,
    "nbgrader": {
     "cell_type": "markdown",
     "checksum": "b3819a07dd08fa6f09c98263934fc3d0",
     "grade": false,
     "grade_id": "cell-2172a9d60ab66635",
     "locked": true,
     "schema_version": 3,
     "solution": false,
     "task": false
    }
   },
   "source": [
    "# Python basics"
   ]
  },
  {
   "cell_type": "code",
   "execution_count": 31,
   "id": "aa959366",
   "metadata": {
    "ExecuteTime": {
     "end_time": "2022-01-07T13:08:52.768256Z",
     "start_time": "2022-01-07T13:08:51.312324Z"
    },
    "deletable": false,
    "editable": false,
    "nbgrader": {
     "cell_type": "code",
     "checksum": "8fcf9a96ebeb5d0e93aeec45760d4737",
     "grade": false,
     "grade_id": "cell-ba12c5c47b74176a",
     "locked": true,
     "schema_version": 3,
     "solution": false,
     "task": false
    },
    "tags": []
   },
   "outputs": [],
   "source": [
    "import numpy as np                   # import numpy package under shorthand \"np\"\n",
    "import pandas as pd                  # import pandas package under shorthand \"pd\"\n",
    "import matplotlib.pyplot as plt\n",
    "from nose.tools import assert_equal\n",
    "from numpy.testing import assert_array_equal\n",
    "\n",
    "# Regression import \n",
    "\n",
    "%config Completer.use_jedi = False  # enable code auto-completion\n",
    "from sklearn.preprocessing import PolynomialFeatures    # function to generate polynomial and interaction features\n",
    "from sklearn.linear_model import LinearRegression    # classes providing Linear Regression with ordinary squared error loss and Huber loss, respectively\n",
    "from sklearn.metrics import mean_squared_error    # function to calculate mean squared error "
   ]
  },
  {
   "cell_type": "markdown",
   "id": "3b9c9cf4-1c5e-4477-bf97-675b16c292da",
   "metadata": {
    "deletable": false,
    "editable": false,
    "nbgrader": {
     "cell_type": "markdown",
     "checksum": "b98c80da6d14451f37a45941867e4df2",
     "grade": false,
     "grade_id": "cell-48e4a36aa5e0b026",
     "locked": true,
     "schema_version": 3,
     "solution": false,
     "task": false
    }
   },
   "source": [
    "## Representing Data as Numpy Arrays\n",
    "\n",
    "Data consists of many individual datapoints. Each datapoint is characterized by features and labels. Let us assume that the features of a datapoint is a finite list of numbers $x_{1},\\ldots,x_{n} \\in \\mathbb{R}$. We can represent such a finite list of numbers conveniently using a numeric or [`numpy`](https://numpy.org/doc/stable/reference/generated/numpy.ndarray.html?highlight=ndarray#numpy.ndarray) array. \n",
    "\n",
    "For instance, we could have a feature vector `np.array([60.1699, 24.9384])` representing the coordinates of Helsinki, and a label `np.array([5.0])` representing average yearly temperature.\n",
    "In general, the feature vector $\\mathbf{x} = \\big(x_{1},\\ldots,x_{n} \\big)^{T} \\in \\mathbb{R}^{n}$ can be represented by a 1 dimensional `numpy` array `x = np.array([x1,...,xn])`. \n",
    "\n",
    "This course will use mainly `numpy` arrays with 1 or 2 dimensions, representing vectors and matrices, respectively. We represent an $m \\times n$ matrix, i.e., with $m$ rows and $n$ columns, using a 2 dimensional `numpy`array with shape `(m,n)`. The Python code `A=np.array([[1,1,1],[2,2,2]])` creates a `numpy` array of shape `(2, 3)`, representing the matrix \n",
    "$$\n",
    "A= \\begin{pmatrix}\n",
    "1 & 1 & 1\\\\\n",
    "2 & 2 & 2\n",
    "\\end{pmatrix}\n",
    "$$\n",
    "\n",
    "One key attribute of an [`numpy.ndarray`](https://numpy.org/doc/stable/reference/generated/numpy.ndarray.html?highlight=ndarray#numpy.ndarray) object `x` is its shape, which is stored in the attribute `x.shape`. The shape `x.shape` is a tuple of integers $s_{0},\\ldots,s_{d-1}$ that indicates the extent (size/length) of the `numeric` array in different dimensions. The first entry $s_{0}$ of the list `x.shape` is the extent in the first dimension (dimension \"0\"), the second entry $s_{1}$ is the extent of `x` in the second dimension (dimension \"1\"). Note that `np.array([1,2,3]).shape` returns `(3,)` which represents a vector, but `np.array([[1,2,3]]).shape` returns `(1, 3)` which represents a matrix.\n",
    "\n",
    "\n",
    "\n",
    "For more information:\n",
    "\n",
    "- [Numpy Documentation](https://numpy.org/doc/stable/index.html)\n",
    "- [What is Numpy?](https://numpy.org/doc/stable/user/whatisnumpy.html)\n",
    "- [Numpy Basics](https://numpy.org/doc/stable/user/basics.html)\n",
    "- [Visualization](https://stackoverflow.com/questions/48200911/very-basic-numpy-array-dimension-visualization)\n",
    "\n",
    "In the task below you will be asked to do some simple operations in numpy that will be necessary to know for the duration of the course. "
   ]
  },
  {
   "cell_type": "markdown",
   "id": "bb5ea82b",
   "metadata": {
    "deletable": false,
    "editable": false,
    "nbgrader": {
     "cell_type": "markdown",
     "checksum": "23432583a868066d2b00323098cd833f",
     "grade": false,
     "grade_id": "cell-48e4a36aa5e0b026-2",
     "locked": true,
     "schema_version": 3,
     "solution": false,
     "task": false
    }
   },
   "source": [
    "<div class=\" alert alert-warning\">\n",
    "    \n",
    "## Student Task A1.1\n",
    "\n",
    "- Create a `numpy` array `x` that represents the vector $\\mathbf{x} = \\big(5, 4, 3\\big)^{T}$ and another `numpy` array `y` that represents the vector $\\mathbf{y} = \\big( 4, 3, 2 \\big)^{T}$.\n",
    "- Complete the function `sum_matrix` which should read in two `numpy` arrays of the same shape. The function should return a `numpy` array with the same shape of the inputs and whose entries are sums of the corresponding entries in the two input arrays. \n",
    "- Similar to `sum_matrix`, complete the function `product_matrix` that returns a `numpy` array whose entries are products of the entries of the input `numpy` arrays. \n",
    "- NOTE: In this exercise we equate 1-dimensional numpy arrays with column vectors, DO NOT create arrays with e.g. shape $\\big(1, 3 \\big)$.\n",
    "</div>"
   ]
  },
  {
   "cell_type": "code",
   "execution_count": 32,
   "id": "3a2b9a8d",
   "metadata": {},
   "outputs": [
    {
     "name": "stdout",
     "output_type": "stream",
     "text": [
      "[5 4 3] [4 3 2]\n"
     ]
    }
   ],
   "source": [
    "## create numpy arrays as:\n",
    "# x = np.array(...)  # input: a list\n",
    "# y = np.array(...)  # input: a list\n",
    "\n",
    "x = np.array([5,4,3])\n",
    "y = np.array([4,3,2])\n",
    "\n",
    "print(x,y)\n",
    "\n",
    "def sum_matrix(x,y):  \n",
    "    \"\"\"\n",
    "    Parameters:\n",
    "    x -- a numpy array\n",
    "    y -- a numpy array\n",
    "    \n",
    "    Returns:\n",
    "    a numpy array representing the element-wise sum of x and y\n",
    "    \"\"\"\n",
    "    return x + y\n",
    "    \n",
    "\n",
    "def product_matrix(x,y):\n",
    "    \"\"\"\n",
    "    Parameters:\n",
    "    x -- a numpy array\n",
    "    y -- a numpy array\n",
    "    \n",
    "    Returns:\n",
    "    a numpy array representing the element-wise product of x and y\n",
    "    \"\"\"\n",
    "    return x * y"
   ]
  },
  {
   "cell_type": "code",
   "execution_count": 33,
   "id": "4aaa825f",
   "metadata": {
    "ExecuteTime": {
     "end_time": "2022-01-07T13:08:52.793462Z",
     "start_time": "2022-01-07T13:08:52.784441Z"
    },
    "deletable": false,
    "editable": false,
    "nbgrader": {
     "cell_type": "code",
     "checksum": "41b613ff9c87c052124c6fc8082681a3",
     "grade": true,
     "grade_id": "cell-1c5ac46222c250ff",
     "locked": true,
     "points": 1,
     "schema_version": 3,
     "solution": false,
     "task": false
    },
    "tags": []
   },
   "outputs": [],
   "source": [
    "# this cell is for tests, please leave it as it is\n",
    "\n",
    "# Sanity check number of dimensions\n",
    "\n",
    "assert x.ndim == 1 and y.ndim == 1, \"Dimensionality of the created arrays is not correct\"\n",
    "\n",
    "# Sanity check that the functions are returning the correct data type\n",
    "\n",
    "assert isinstance(sum_matrix(x, y), np.ndarray), \"Function sum_matrix should return a numpy array\"\n",
    "assert isinstance(product_matrix(x, y), np.ndarray), \"Function product_matrix should return a numpy array\"\n"
   ]
  },
  {
   "cell_type": "markdown",
   "id": "81e6011c",
   "metadata": {
    "deletable": false,
    "editable": false,
    "nbgrader": {
     "cell_type": "markdown",
     "checksum": "ed398b6aff9ba785bfadc6fc871fdbc0",
     "grade": false,
     "grade_id": "cell-1e2965ae63ee9132",
     "locked": true,
     "schema_version": 3,
     "solution": false,
     "task": false
    }
   },
   "source": [
    "<div class=\" alert alert-warning\">\n",
    "\n",
    "## Student Task A1.2\n",
    "\n",
    "\n",
    "Create a `numpy` array `A` of shape `(3, 2)` that represents the $3 \\times 2$ integer matrix \n",
    "\n",
    "\\begin{pmatrix}\n",
    "1 & 2\\\\\n",
    "3 & 4\\\\\n",
    "5 & 6\n",
    "\\end{pmatrix}\n",
    "\n",
    "Complete the three functions in the code snippet:\n",
    "\n",
    " - `first_row` that should return a 1-D `numpy` array that represents the first row of the matrix corresponding to the input array. \n",
    "\n",
    " -  `second_column` that should return 1-D `numpy` array ... second column ...\n",
    "    \n",
    " -  `second_row_and_column` that should return a single number which is contained in the second row and second column of the input matrix.\n",
    "    \n",
    "</div>"
   ]
  },
  {
   "cell_type": "code",
   "execution_count": 34,
   "id": "74505ff0",
   "metadata": {
    "ExecuteTime": {
     "end_time": "2022-01-07T13:08:52.809546Z",
     "start_time": "2022-01-07T13:08:52.804559Z"
    },
    "deletable": false,
    "nbgrader": {
     "cell_type": "code",
     "checksum": "f5f426cf29e2e9c7cecd5e3c312ab3d6",
     "grade": false,
     "grade_id": "cell-1cc1e6c6c1853608",
     "locked": false,
     "schema_version": 3,
     "solution": true,
     "task": false
    },
    "tags": []
   },
   "outputs": [],
   "source": [
    "## create a 2-D numpy array as:\n",
    "# A = ...\n",
    "A = np.array([[1,2],[3,4],[5,6]])"
   ]
  },
  {
   "cell_type": "code",
   "execution_count": 35,
   "id": "09e9cb66",
   "metadata": {
    "ExecuteTime": {
     "end_time": "2022-01-07T13:08:52.820591Z",
     "start_time": "2022-01-07T13:08:52.813115Z"
    },
    "deletable": false,
    "nbgrader": {
     "cell_type": "code",
     "checksum": "d98ccc7ac99e252d3460393010d8c291",
     "grade": false,
     "grade_id": "cell-1cc1e6c6c1873608",
     "locked": false,
     "schema_version": 3,
     "solution": true,
     "task": false
    },
    "tags": []
   },
   "outputs": [],
   "source": [
    "def first_row(A): \n",
    "    '''\n",
    "    Parameter:\n",
    "    A -- a numpy array\n",
    "    \n",
    "    Returns:\n",
    "    the first row of A\n",
    "    '''\n",
    "    return A[0]\n",
    "\n",
    "def second_column(A): \n",
    "    '''\n",
    "    Parameter:\n",
    "    A -- a numpy array\n",
    "    \n",
    "    Returns:\n",
    "    the second column of A\n",
    "    '''\n",
    "    return A[:,1]\n",
    "\n",
    "def second_row_and_column(A): \n",
    "    '''\n",
    "    Parameter:\n",
    "    A -- a numpy array\n",
    "    \n",
    "    Returns:\n",
    "    the second row and second column of A, a float\n",
    "    '''\n",
    "    return A[1,1]\n"
   ]
  },
  {
   "cell_type": "code",
   "execution_count": 36,
   "id": "b9a89a4b",
   "metadata": {
    "ExecuteTime": {
     "end_time": "2022-01-07T13:08:52.841119Z",
     "start_time": "2022-01-07T13:08:52.824148Z"
    },
    "deletable": false,
    "editable": false,
    "nbgrader": {
     "cell_type": "code",
     "checksum": "43694e420da72fe8d986f714b3326173",
     "grade": true,
     "grade_id": "cell-2b915d8dee4891a9",
     "locked": true,
     "points": 1,
     "schema_version": 3,
     "solution": false,
     "task": false
    },
    "tags": []
   },
   "outputs": [],
   "source": [
    "## this cell is for tests, please leave it as it is\n",
    "\n",
    "# Sanity check the data type and the shape\n",
    "assert isinstance(A, np.ndarray), \"A has incorrect type\"\n",
    "assert A.shape == (3, 2), \"A has incorrect shape\"\n",
    "\n",
    "# Sanity check that the functions are returning the correct data type\n",
    "\n",
    "assert isinstance(first_row(A), np.ndarray), \"Function first_row should return a numpy array\"\n",
    "assert isinstance(second_column(A), np.ndarray), \"Function second_column should return a numpy array\"\n",
    "assert isinstance(second_row_and_column(A), np.integer), \"Function second_row_and_column should return an integer\"\n"
   ]
  },
  {
   "cell_type": "markdown",
   "id": "74e1c7e8",
   "metadata": {
    "deletable": false,
    "editable": false,
    "nbgrader": {
     "cell_type": "markdown",
     "checksum": "47258fb4c3ac7dcc92553d545a9691dd",
     "grade": false,
     "grade_id": "cell-f4669a4f967e1533",
     "locked": true,
     "schema_version": 3,
     "solution": false,
     "task": false
    }
   },
   "source": [
    "<div class=\" alert alert-warning\">\n",
    "\n",
    "## Student Task A1.3 \n",
    "\n",
    "- Create a `numpy` array `B` of shape `(2,2)` that represents the matrix \n",
    "\\begin{pmatrix}\n",
    "1 & 3 \\\\\n",
    "5 & 7 \n",
    "\\end{pmatrix}\n",
    "- Create a `numpy` array `C` of shape `(2,2)` that represents the matrix \n",
    "\\begin{pmatrix}\n",
    "2 & 4 \\\\\n",
    "6 & 8 \n",
    "\\end{pmatrix}\n",
    "- Complete the function `matrix_mult` which reads in `numpy` arrays `B` and `C` and returns a `numpy` array that represents the [matrix multiplication](https://en.wikipedia.org/wiki/Matrix_multiplication) of the matrices represented by `B` and `C`.\n",
    "    \n",
    "</div>"
   ]
  },
  {
   "cell_type": "code",
   "execution_count": 37,
   "id": "76f92989",
   "metadata": {
    "ExecuteTime": {
     "end_time": "2022-01-07T13:08:52.858028Z",
     "start_time": "2022-01-07T13:08:52.845971Z"
    },
    "deletable": false,
    "nbgrader": {
     "cell_type": "code",
     "checksum": "acc050ba8bcb8209a370913b2ea9bf8d",
     "grade": false,
     "grade_id": "cell-ffe997addcc907e7",
     "locked": false,
     "schema_version": 3,
     "solution": true,
     "task": false
    },
    "tags": []
   },
   "outputs": [],
   "source": [
    "## create two numpy arrays as:\n",
    "# B = ...\n",
    "# C = ...\n",
    "B = np.array([[1,3],[5,7]])\n",
    "C = np.array([[2,4],[6,8]])\n",
    "\n",
    "def matrix_mult(B,C): \n",
    "    '''\n",
    "    Parameters:\n",
    "    B -- a numpy array\n",
    "    C -- a numpy array\n",
    "    \n",
    "    Returns:\n",
    "    the result of matrix multiplying of B and C\n",
    "    '''\n",
    "    return np.matmul(B,C)\n",
    "    "
   ]
  },
  {
   "cell_type": "code",
   "execution_count": 38,
   "id": "e15e4e14",
   "metadata": {
    "ExecuteTime": {
     "end_time": "2022-01-07T13:08:52.873584Z",
     "start_time": "2022-01-07T13:08:52.865242Z"
    },
    "deletable": false,
    "editable": false,
    "nbgrader": {
     "cell_type": "code",
     "checksum": "3756afde88826ed18bc964f9b1c77578",
     "grade": true,
     "grade_id": "cell-732e2467559ef94d",
     "locked": true,
     "points": 1,
     "schema_version": 3,
     "solution": false,
     "task": false
    },
    "tags": []
   },
   "outputs": [],
   "source": [
    "# this cell is for tests\n",
    "\n",
    "# Sanity check that the function matrix_mult is returning the correct data type\n",
    "\n",
    "assert isinstance(matrix_mult(B, C), np.ndarray), \"Function matrix_mult should return a numpy array\"\n"
   ]
  },
  {
   "cell_type": "markdown",
   "id": "01b06124",
   "metadata": {
    "deletable": false,
    "editable": false,
    "nbgrader": {
     "cell_type": "markdown",
     "checksum": "7f7057639e8850047975849449c6a9c2",
     "grade": false,
     "grade_id": "cell-95e69469e6e32caf",
     "locked": true,
     "schema_version": 3,
     "solution": false,
     "task": false
    }
   },
   "source": [
    "<div class=\" alert alert-warning\">\n",
    "    \n",
    "## Student Task A1.4\n",
    "    \n",
    "Consider the code line `A=np.array([[1, 0], [0, 1], [1, 1]])` which creates a `numpy` array `A`. What is the shape of the `numpy` array? (Set the variable `Answer` to the index of the correct answer) \n",
    "   \n",
    "* answer 1: the shape is `(3, 2)`.\n",
    "* answer 2: the shape is `(2, 1)`.\n",
    "    \n",
    "</div>"
   ]
  },
  {
   "cell_type": "code",
   "execution_count": 39,
   "id": "30544bf1",
   "metadata": {
    "ExecuteTime": {
     "end_time": "2022-01-07T13:08:52.885629Z",
     "start_time": "2022-01-07T13:08:52.879475Z"
    },
    "deletable": false,
    "nbgrader": {
     "cell_type": "code",
     "checksum": "26855d7e1d4b340faffe1e62a572b257",
     "grade": false,
     "grade_id": "cell-d5e46c978765b8c1",
     "locked": false,
     "schema_version": 3,
     "solution": true,
     "task": false
    },
    "tags": []
   },
   "outputs": [],
   "source": [
    "## set Answer to the index of the correct answer (e.g., Answer = 1 if you think answer 1 is correct):\n",
    "# Answer = ... # either 1 or 2\n",
    "\n",
    "Answer = 1\n"
   ]
  },
  {
   "cell_type": "code",
   "execution_count": 40,
   "id": "cbd28c8f",
   "metadata": {
    "ExecuteTime": {
     "end_time": "2022-01-07T13:08:52.897821Z",
     "start_time": "2022-01-07T13:08:52.890696Z"
    },
    "deletable": false,
    "editable": false,
    "nbgrader": {
     "cell_type": "code",
     "checksum": "6fa2628809c0f898f6d0998d3339a27a",
     "grade": true,
     "grade_id": "cell-8c745bf592878bc7",
     "locked": true,
     "points": 1,
     "schema_version": 3,
     "solution": false,
     "task": false
    },
    "tags": []
   },
   "outputs": [],
   "source": [
    "# this cell is for tests\n",
    "\n",
    "# Sanity check the data type\n",
    "assert isinstance(Answer, int), \"The answer should be an integer\"\n"
   ]
  },
  {
   "cell_type": "markdown",
   "id": "391c6829",
   "metadata": {
    "deletable": false,
    "editable": false,
    "nbgrader": {
     "cell_type": "markdown",
     "checksum": "485850940d7eec2745afea74ac8778b8",
     "grade": false,
     "grade_id": "cell-95e69464e6e32caf",
     "locked": true,
     "schema_version": 3,
     "solution": false,
     "task": false
    }
   },
   "source": [
    "<div class=\" alert alert-info\" >\n",
    "    \n",
    "### Demo\n",
    "    \n",
    "A frequently used method of ndarray is [ndarray.reshape()](https://numpy.org/doc/stable/reference/generated/numpy.ndarray.reshape.html), it returns a new shape to an array without changing its data. The mandatory parameter of `.reshape()` is 'shape' which should be the new shape represented by an int or a tuple of ints, it should be compatible with the original shape. If an integer, then the result will be a 1-D array of that length. One shape dimension can be -1, in this case, the value is inferred from the length of the array and remaining dimensions.\n",
    "</div>"
   ]
  },
  {
   "cell_type": "code",
   "execution_count": 41,
   "id": "728ae59f",
   "metadata": {
    "ExecuteTime": {
     "end_time": "2022-01-07T13:08:52.912645Z",
     "start_time": "2022-01-07T13:08:52.901602Z"
    },
    "deletable": false,
    "editable": false,
    "nbgrader": {
     "cell_type": "code",
     "checksum": "3b3dfd23590e7b97cc547762b4cc23e3",
     "grade": false,
     "grade_id": "cell-4828f310e646df38",
     "locked": true,
     "schema_version": 3,
     "solution": false,
     "task": false
    },
    "tags": []
   },
   "outputs": [
    {
     "name": "stdout",
     "output_type": "stream",
     "text": [
      "P:\n",
      " [1 2 3 4 5 6 7 8]\n",
      "The shape of P is:  (8,)\n",
      "\n",
      "P_1:\n",
      " [[1]\n",
      " [2]\n",
      " [3]\n",
      " [4]\n",
      " [5]\n",
      " [6]\n",
      " [7]\n",
      " [8]]\n",
      "The shape of P_1 is:  (8, 1)\n",
      "\n",
      "P_2:\n",
      " [[1 2]\n",
      " [3 4]\n",
      " [5 6]\n",
      " [7 8]]\n",
      "The shape of P_2 is:  (4, 2)\n"
     ]
    }
   ],
   "source": [
    "# create a 1-D numpy array\n",
    "P = np.array([1, 2, 3, 4, 5, 6, 7, 8])  \n",
    "print('P:\\n', P)\n",
    "print('The shape of P is: ', P.shape)   \n",
    "\n",
    "# reshape P to a 2-D array, the size of the second dimension is 1, the first dimension is inferred\n",
    "P_1 = P.reshape((-1, 1)) \n",
    "print('\\nP_1:\\n', P_1)\n",
    "print('The shape of P_1 is: ', P_1.shape)\n",
    "\n",
    "# reshape P to a 2-D array with the shape (4, 2)\n",
    "P_2 = P.reshape((4, 2))  \n",
    "print('\\nP_2:\\n', P_2)\n",
    "print('The shape of P_2 is: ', P_2.shape)"
   ]
  },
  {
   "cell_type": "markdown",
   "id": "d68a5221",
   "metadata": {
    "deletable": false,
    "editable": false,
    "nbgrader": {
     "cell_type": "markdown",
     "checksum": "09ccf777f3984c0fd2fffd0b3294891f",
     "grade": false,
     "grade_id": "cell-95e69466e6e32caf",
     "locked": true,
     "schema_version": 3,
     "solution": false,
     "task": false
    }
   },
   "source": [
    "<div class=\" alert alert-warning\">\n",
    "    \n",
    "## Student Task A1.5\n",
    "    \n",
    "Your task is to reshape P to a new ndarray P_test with the shape (2, 4)\n",
    "    \n",
    "</div>\n"
   ]
  },
  {
   "cell_type": "code",
   "execution_count": 42,
   "id": "0c737738",
   "metadata": {
    "ExecuteTime": {
     "end_time": "2022-01-07T13:08:52.920592Z",
     "start_time": "2022-01-07T13:08:52.915322Z"
    },
    "deletable": false,
    "nbgrader": {
     "cell_type": "code",
     "checksum": "c0e9cfb9180d9c03162e8bc899120d2f",
     "grade": false,
     "grade_id": "cell-496c2d223c75968f",
     "locked": false,
     "schema_version": 3,
     "solution": true,
     "task": false
    },
    "tags": []
   },
   "outputs": [
    {
     "name": "stdout",
     "output_type": "stream",
     "text": [
      "P_test:\n",
      " [[1 2 3 4]\n",
      " [5 6 7 8]]\n",
      "\n",
      "The shape of P_test is:  (2, 4)\n"
     ]
    }
   ],
   "source": [
    "## apply the method P.rehshape() to create a new ndarray P_test with the shape (2, 4) as:\n",
    "# P_test = P.reshape(...) # input: a tuple\n",
    "\n",
    "P_test = P.reshape((2, 4))\n",
    "\n",
    "print('P_test:\\n', P_test)\n",
    "print('\\nThe shape of P_test is: ', P_test.shape)"
   ]
  },
  {
   "cell_type": "code",
   "execution_count": 43,
   "id": "0ee569c8",
   "metadata": {
    "ExecuteTime": {
     "end_time": "2022-01-07T13:08:52.930501Z",
     "start_time": "2022-01-07T13:08:52.925275Z"
    },
    "deletable": false,
    "editable": false,
    "nbgrader": {
     "cell_type": "code",
     "checksum": "a920fcc7edb6d1964afc8e7da91f06f2",
     "grade": true,
     "grade_id": "cell-21ab5473bc31c0dc",
     "locked": true,
     "points": 1,
     "schema_version": 3,
     "solution": false,
     "task": false
    },
    "tags": []
   },
   "outputs": [],
   "source": [
    "# this cell is for tests"
   ]
  },
  {
   "cell_type": "markdown",
   "id": "907c639c",
   "metadata": {
    "deletable": false,
    "editable": false,
    "nbgrader": {
     "cell_type": "markdown",
     "checksum": "23bd81357ea6517ec1a7d16623f09ded",
     "grade": false,
     "grade_id": "cell-ce07c051b9fc9ddf",
     "locked": true,
     "schema_version": 3,
     "solution": false,
     "task": false
    }
   },
   "source": [
    "## Processing Data with Pandas\n",
    "\n",
    "[Pandas](https://pandas.pydata.org/docs/) provides the class `DataFrame`. A dataframe is a two-dimensional data structure, i.e., data is aligned in a tabular fashion in rows and columns. We can think of `DataFrame` a table whose rows represent individual datapoints and whose columns represent different properties (which might be features or labels) of the datapoints. \n",
    "\n",
    "We can perform basic operations on rows/columns like selecting, deleting, adding, and renaming. You can find some example use cases for `DataFrame` below. For more practice with `pandas` there is great documentation in the [10 minutes to Pandas](https://pandas.pydata.org/pandas-docs/stable/user_guide/10min.html) notebooks on their website.\n",
    "\n",
    "In what follows, we will demonstrate the usage of a `DataFrame` on data provided by the Finnish Meteorological Institute (FMI) at https://en.ilmatieteenlaitos.fi/download-observations. We have downloaded hourly weather observations at the FMI station Otsjoki Nuorgam during 01.06.2021 and 31.08.2021. The data is stored in the file `air_temp.csv` which is located in the same directory as this notebook.\n"
   ]
  },
  {
   "cell_type": "code",
   "execution_count": 44,
   "id": "5de914f3",
   "metadata": {
    "ExecuteTime": {
     "end_time": "2022-01-07T13:08:52.977264Z",
     "start_time": "2022-01-07T13:08:52.933853Z"
    },
    "deletable": false,
    "editable": false,
    "nbgrader": {
     "cell_type": "code",
     "checksum": "41e2909ce5bac7113cf079cd4456296e",
     "grade": false,
     "grade_id": "cell-fc8018b370ed297c",
     "locked": true,
     "schema_version": 3,
     "solution": false,
     "task": false
    },
    "tags": []
   },
   "outputs": [
    {
     "data": {
      "text/html": [
       "<div>\n",
       "<style scoped>\n",
       "    .dataframe tbody tr th:only-of-type {\n",
       "        vertical-align: middle;\n",
       "    }\n",
       "\n",
       "    .dataframe tbody tr th {\n",
       "        vertical-align: top;\n",
       "    }\n",
       "\n",
       "    .dataframe thead th {\n",
       "        text-align: right;\n",
       "    }\n",
       "</style>\n",
       "<table border=\"1\" class=\"dataframe\">\n",
       "  <thead>\n",
       "    <tr style=\"text-align: right;\">\n",
       "      <th></th>\n",
       "      <th>Year</th>\n",
       "      <th>m</th>\n",
       "      <th>d</th>\n",
       "      <th>Time</th>\n",
       "      <th>Time zone</th>\n",
       "      <th>Air temperature (degC)</th>\n",
       "    </tr>\n",
       "  </thead>\n",
       "  <tbody>\n",
       "    <tr>\n",
       "      <th>0</th>\n",
       "      <td>2021</td>\n",
       "      <td>6</td>\n",
       "      <td>1</td>\n",
       "      <td>00:00</td>\n",
       "      <td>UTC</td>\n",
       "      <td>6.2</td>\n",
       "    </tr>\n",
       "    <tr>\n",
       "      <th>1</th>\n",
       "      <td>2021</td>\n",
       "      <td>6</td>\n",
       "      <td>1</td>\n",
       "      <td>01:00</td>\n",
       "      <td>UTC</td>\n",
       "      <td>6.4</td>\n",
       "    </tr>\n",
       "    <tr>\n",
       "      <th>2</th>\n",
       "      <td>2021</td>\n",
       "      <td>6</td>\n",
       "      <td>1</td>\n",
       "      <td>02:00</td>\n",
       "      <td>UTC</td>\n",
       "      <td>6.4</td>\n",
       "    </tr>\n",
       "    <tr>\n",
       "      <th>3</th>\n",
       "      <td>2021</td>\n",
       "      <td>6</td>\n",
       "      <td>1</td>\n",
       "      <td>03:00</td>\n",
       "      <td>UTC</td>\n",
       "      <td>6.8</td>\n",
       "    </tr>\n",
       "    <tr>\n",
       "      <th>4</th>\n",
       "      <td>2021</td>\n",
       "      <td>6</td>\n",
       "      <td>1</td>\n",
       "      <td>04:00</td>\n",
       "      <td>UTC</td>\n",
       "      <td>7.1</td>\n",
       "    </tr>\n",
       "  </tbody>\n",
       "</table>\n",
       "</div>"
      ],
      "text/plain": [
       "   Year  m  d   Time Time zone  Air temperature (degC)\n",
       "0  2021  6  1  00:00       UTC                     6.2\n",
       "1  2021  6  1  01:00       UTC                     6.4\n",
       "2  2021  6  1  02:00       UTC                     6.4\n",
       "3  2021  6  1  03:00       UTC                     6.8\n",
       "4  2021  6  1  04:00       UTC                     7.1"
      ]
     },
     "execution_count": 44,
     "metadata": {},
     "output_type": "execute_result"
    }
   ],
   "source": [
    "# read in data from the file \"air_temp.csv\" and store it \n",
    "# in the DataFrame \"df\"\n",
    "\n",
    "df = pd.read_csv('air_temp.csv')\n",
    "\n",
    "# print the first 5 weather recordings in the DataFrame `df`\n",
    "\n",
    "df.head(5)  "
   ]
  },
  {
   "cell_type": "code",
   "execution_count": 45,
   "id": "cc5557ad",
   "metadata": {
    "ExecuteTime": {
     "end_time": "2022-01-07T13:08:53.012283Z",
     "start_time": "2022-01-07T13:08:52.991220Z"
    },
    "deletable": false,
    "editable": false,
    "nbgrader": {
     "cell_type": "code",
     "checksum": "16dc5a69b0d8a183959e89109e43e136",
     "grade": false,
     "grade_id": "cell-80d20e86e47ed69c",
     "locked": true,
     "schema_version": 3,
     "solution": false,
     "task": false
    },
    "tags": []
   },
   "outputs": [
    {
     "name": "stdout",
     "output_type": "stream",
     "text": [
      "<class 'pandas.core.frame.DataFrame'>\n",
      "RangeIndex: 2209 entries, 0 to 2208\n",
      "Data columns (total 6 columns):\n",
      " #   Column                  Non-Null Count  Dtype  \n",
      "---  ------                  --------------  -----  \n",
      " 0   Year                    2209 non-null   int64  \n",
      " 1   m                       2209 non-null   int64  \n",
      " 2   d                       2209 non-null   int64  \n",
      " 3   Time                    2209 non-null   object \n",
      " 4   Time zone               2209 non-null   object \n",
      " 5   Air temperature (degC)  2204 non-null   float64\n",
      "dtypes: float64(1), int64(3), object(2)\n",
      "memory usage: 103.7+ KB\n"
     ]
    }
   ],
   "source": [
    "# print a concise summary of a DataFrame including the index dtype and columns, non-null values and memory usage\n",
    "\n",
    "df.info()"
   ]
  },
  {
   "cell_type": "code",
   "execution_count": 46,
   "id": "7b623cb6",
   "metadata": {
    "deletable": false,
    "editable": false,
    "nbgrader": {
     "cell_type": "code",
     "checksum": "a029cd909a9e43d5e76ac2903851648f",
     "grade": false,
     "grade_id": "cell-22ad1dd4b4d26975",
     "locked": true,
     "schema_version": 3,
     "solution": false,
     "task": false
    },
    "tags": []
   },
   "outputs": [
    {
     "data": {
      "text/html": [
       "<div>\n",
       "<style scoped>\n",
       "    .dataframe tbody tr th:only-of-type {\n",
       "        vertical-align: middle;\n",
       "    }\n",
       "\n",
       "    .dataframe tbody tr th {\n",
       "        vertical-align: top;\n",
       "    }\n",
       "\n",
       "    .dataframe thead th {\n",
       "        text-align: right;\n",
       "    }\n",
       "</style>\n",
       "<table border=\"1\" class=\"dataframe\">\n",
       "  <thead>\n",
       "    <tr style=\"text-align: right;\">\n",
       "      <th></th>\n",
       "      <th>Time</th>\n",
       "      <th>Air temperature (degC)</th>\n",
       "      <th>date</th>\n",
       "    </tr>\n",
       "  </thead>\n",
       "  <tbody>\n",
       "    <tr>\n",
       "      <th>0</th>\n",
       "      <td>00:00</td>\n",
       "      <td>6.2</td>\n",
       "      <td>2021-6-1</td>\n",
       "    </tr>\n",
       "    <tr>\n",
       "      <th>1</th>\n",
       "      <td>01:00</td>\n",
       "      <td>6.4</td>\n",
       "      <td>2021-6-1</td>\n",
       "    </tr>\n",
       "    <tr>\n",
       "      <th>2</th>\n",
       "      <td>02:00</td>\n",
       "      <td>6.4</td>\n",
       "      <td>2021-6-1</td>\n",
       "    </tr>\n",
       "    <tr>\n",
       "      <th>3</th>\n",
       "      <td>03:00</td>\n",
       "      <td>6.8</td>\n",
       "      <td>2021-6-1</td>\n",
       "    </tr>\n",
       "    <tr>\n",
       "      <th>4</th>\n",
       "      <td>04:00</td>\n",
       "      <td>7.1</td>\n",
       "      <td>2021-6-1</td>\n",
       "    </tr>\n",
       "    <tr>\n",
       "      <th>5</th>\n",
       "      <td>05:00</td>\n",
       "      <td>7.6</td>\n",
       "      <td>2021-6-1</td>\n",
       "    </tr>\n",
       "    <tr>\n",
       "      <th>6</th>\n",
       "      <td>06:00</td>\n",
       "      <td>7.5</td>\n",
       "      <td>2021-6-1</td>\n",
       "    </tr>\n",
       "    <tr>\n",
       "      <th>7</th>\n",
       "      <td>07:00</td>\n",
       "      <td>8.1</td>\n",
       "      <td>2021-6-1</td>\n",
       "    </tr>\n",
       "    <tr>\n",
       "      <th>8</th>\n",
       "      <td>08:00</td>\n",
       "      <td>10.3</td>\n",
       "      <td>2021-6-1</td>\n",
       "    </tr>\n",
       "    <tr>\n",
       "      <th>9</th>\n",
       "      <td>09:00</td>\n",
       "      <td>12.8</td>\n",
       "      <td>2021-6-1</td>\n",
       "    </tr>\n",
       "  </tbody>\n",
       "</table>\n",
       "</div>"
      ],
      "text/plain": [
       "    Time  Air temperature (degC)      date\n",
       "0  00:00                     6.2  2021-6-1\n",
       "1  01:00                     6.4  2021-6-1\n",
       "2  02:00                     6.4  2021-6-1\n",
       "3  03:00                     6.8  2021-6-1\n",
       "4  04:00                     7.1  2021-6-1\n",
       "5  05:00                     7.6  2021-6-1\n",
       "6  06:00                     7.5  2021-6-1\n",
       "7  07:00                     8.1  2021-6-1\n",
       "8  08:00                    10.3  2021-6-1\n",
       "9  09:00                    12.8  2021-6-1"
      ]
     },
     "execution_count": 46,
     "metadata": {},
     "output_type": "execute_result"
    }
   ],
   "source": [
    "df=df.dropna(axis=0)  \n",
    "data = df.assign(date = df[\"Year\"].astype(str)+'-'+df[\"m\"].astype(str)+'-'+df[\"d\"].astype(str))\n",
    "data = data.drop(['Year','m','d','Time zone'],axis=1)\n",
    "data.head(10)\n",
    "#data = data[['date','Time','Air temperature (degC)']]\n",
    "#data.head(10)"
   ]
  },
  {
   "cell_type": "code",
   "execution_count": 47,
   "id": "a1f1404c",
   "metadata": {
    "ExecuteTime": {
     "end_time": "2022-01-07T13:08:54.256449Z",
     "start_time": "2022-01-07T13:08:53.016476Z"
    },
    "deletable": false,
    "editable": false,
    "nbgrader": {
     "cell_type": "code",
     "checksum": "d5e082217f52741fe6e9fca8907793d2",
     "grade": false,
     "grade_id": "cell-fc8008b370ed297c",
     "locked": true,
     "schema_version": 3,
     "solution": false,
     "task": false
    },
    "tags": []
   },
   "outputs": [
    {
     "data": {
      "text/html": [
       "<div>\n",
       "<style scoped>\n",
       "    .dataframe tbody tr th:only-of-type {\n",
       "        vertical-align: middle;\n",
       "    }\n",
       "\n",
       "    .dataframe tbody tr th {\n",
       "        vertical-align: top;\n",
       "    }\n",
       "\n",
       "    .dataframe thead th {\n",
       "        text-align: right;\n",
       "    }\n",
       "</style>\n",
       "<table border=\"1\" class=\"dataframe\">\n",
       "  <thead>\n",
       "    <tr style=\"text-align: right;\">\n",
       "      <th></th>\n",
       "      <th>date</th>\n",
       "      <th>time</th>\n",
       "      <th>temperature</th>\n",
       "    </tr>\n",
       "  </thead>\n",
       "  <tbody>\n",
       "    <tr>\n",
       "      <th>2204</th>\n",
       "      <td>2021-8-31</td>\n",
       "      <td>20:00</td>\n",
       "      <td>6.1</td>\n",
       "    </tr>\n",
       "    <tr>\n",
       "      <th>2205</th>\n",
       "      <td>2021-8-31</td>\n",
       "      <td>21:00</td>\n",
       "      <td>6.4</td>\n",
       "    </tr>\n",
       "    <tr>\n",
       "      <th>2206</th>\n",
       "      <td>2021-8-31</td>\n",
       "      <td>22:00</td>\n",
       "      <td>6.2</td>\n",
       "    </tr>\n",
       "    <tr>\n",
       "      <th>2207</th>\n",
       "      <td>2021-8-31</td>\n",
       "      <td>23:00</td>\n",
       "      <td>5.6</td>\n",
       "    </tr>\n",
       "    <tr>\n",
       "      <th>2208</th>\n",
       "      <td>2021-9-1</td>\n",
       "      <td>00:00</td>\n",
       "      <td>5.5</td>\n",
       "    </tr>\n",
       "  </tbody>\n",
       "</table>\n",
       "</div>"
      ],
      "text/plain": [
       "           date   time  temperature\n",
       "2204  2021-8-31  20:00          6.1\n",
       "2205  2021-8-31  21:00          6.4\n",
       "2206  2021-8-31  22:00          6.2\n",
       "2207  2021-8-31  23:00          5.6\n",
       "2208   2021-9-1  00:00          5.5"
      ]
     },
     "execution_count": 47,
     "metadata": {},
     "output_type": "execute_result"
    }
   ],
   "source": [
    "# change column names\n",
    "\n",
    "df.columns=['year','month', 'day', 'time', 'time_zone','temperature'] \n",
    "\n",
    "# remove rows from dataframe \"df\" which contain missing values\n",
    "\n",
    "df = df.dropna(axis=0) #rows are considered as axis 0\n",
    "\n",
    "# concatenate the 3 columns \"year\", \"month\", \"day\" into a new column \"date\" in format e.g. 2022-01-26\n",
    "\n",
    "data = df.assign(date = df[\"year\"].astype(str)+'-'+df[\"month\"].astype(str)+'-'+df[\"day\"].astype(str))\n",
    "\n",
    "# remove columns \"year\", \"month\", \"day\", \"time_zone\" that are not used \n",
    "\n",
    "data = data.drop(['year','month','day','time_zone'],axis=1)  #columns are axis 1\n",
    "\n",
    "# switch column order\n",
    "\n",
    "data = data[['date','time','temperature']]\n",
    "\n",
    "# print the last 5 weather recordings of the new dataframe \n",
    "\n",
    "data.tail(5) "
   ]
  },
  {
   "cell_type": "code",
   "execution_count": 48,
   "id": "d3d01834",
   "metadata": {
    "ExecuteTime": {
     "end_time": "2022-01-07T13:08:54.285509Z",
     "start_time": "2022-01-07T13:08:54.259960Z"
    },
    "deletable": false,
    "editable": false,
    "nbgrader": {
     "cell_type": "code",
     "checksum": "22ce603c231d3b3e02ddeafe829ff7fa",
     "grade": false,
     "grade_id": "cell-e60e6362096f0cf6",
     "locked": true,
     "schema_version": 3,
     "solution": false,
     "task": false
    },
    "tags": []
   },
   "outputs": [
    {
     "data": {
      "text/html": [
       "<div>\n",
       "<style scoped>\n",
       "    .dataframe tbody tr th:only-of-type {\n",
       "        vertical-align: middle;\n",
       "    }\n",
       "\n",
       "    .dataframe tbody tr th {\n",
       "        vertical-align: top;\n",
       "    }\n",
       "\n",
       "    .dataframe thead th {\n",
       "        text-align: right;\n",
       "    }\n",
       "</style>\n",
       "<table border=\"1\" class=\"dataframe\">\n",
       "  <thead>\n",
       "    <tr style=\"text-align: right;\">\n",
       "      <th></th>\n",
       "      <th>year</th>\n",
       "      <th>month</th>\n",
       "      <th>day</th>\n",
       "      <th>temperature</th>\n",
       "    </tr>\n",
       "  </thead>\n",
       "  <tbody>\n",
       "    <tr>\n",
       "      <th>count</th>\n",
       "      <td>2204.0</td>\n",
       "      <td>2204.000000</td>\n",
       "      <td>2204.000000</td>\n",
       "      <td>2204.000000</td>\n",
       "    </tr>\n",
       "    <tr>\n",
       "      <th>mean</th>\n",
       "      <td>2021.0</td>\n",
       "      <td>7.014065</td>\n",
       "      <td>15.837114</td>\n",
       "      <td>12.049365</td>\n",
       "    </tr>\n",
       "    <tr>\n",
       "      <th>std</th>\n",
       "      <td>0.0</td>\n",
       "      <td>0.814798</td>\n",
       "      <td>8.863532</td>\n",
       "      <td>5.021324</td>\n",
       "    </tr>\n",
       "    <tr>\n",
       "      <th>min</th>\n",
       "      <td>2021.0</td>\n",
       "      <td>6.000000</td>\n",
       "      <td>1.000000</td>\n",
       "      <td>0.500000</td>\n",
       "    </tr>\n",
       "    <tr>\n",
       "      <th>25%</th>\n",
       "      <td>2021.0</td>\n",
       "      <td>6.000000</td>\n",
       "      <td>8.000000</td>\n",
       "      <td>8.600000</td>\n",
       "    </tr>\n",
       "    <tr>\n",
       "      <th>50%</th>\n",
       "      <td>2021.0</td>\n",
       "      <td>7.000000</td>\n",
       "      <td>16.000000</td>\n",
       "      <td>11.150000</td>\n",
       "    </tr>\n",
       "    <tr>\n",
       "      <th>75%</th>\n",
       "      <td>2021.0</td>\n",
       "      <td>8.000000</td>\n",
       "      <td>24.000000</td>\n",
       "      <td>14.700000</td>\n",
       "    </tr>\n",
       "    <tr>\n",
       "      <th>max</th>\n",
       "      <td>2021.0</td>\n",
       "      <td>9.000000</td>\n",
       "      <td>31.000000</td>\n",
       "      <td>32.200000</td>\n",
       "    </tr>\n",
       "  </tbody>\n",
       "</table>\n",
       "</div>"
      ],
      "text/plain": [
       "         year        month          day  temperature\n",
       "count  2204.0  2204.000000  2204.000000  2204.000000\n",
       "mean   2021.0     7.014065    15.837114    12.049365\n",
       "std       0.0     0.814798     8.863532     5.021324\n",
       "min    2021.0     6.000000     1.000000     0.500000\n",
       "25%    2021.0     6.000000     8.000000     8.600000\n",
       "50%    2021.0     7.000000    16.000000    11.150000\n",
       "75%    2021.0     8.000000    24.000000    14.700000\n",
       "max    2021.0     9.000000    31.000000    32.200000"
      ]
     },
     "execution_count": 48,
     "metadata": {},
     "output_type": "execute_result"
    }
   ],
   "source": [
    "# print some summary statistics of the rows in \"data\", such as mean, std, etc.\n",
    "\n",
    "df.describe()"
   ]
  },
  {
   "cell_type": "markdown",
   "id": "d649f5b8",
   "metadata": {
    "deletable": false,
    "editable": false,
    "nbgrader": {
     "cell_type": "markdown",
     "checksum": "3266477d2ed69077bc584b241c49fe72",
     "grade": false,
     "grade_id": "cell-0664bf99478bc0e9",
     "locked": true,
     "schema_version": 3,
     "solution": false,
     "task": false
    }
   },
   "source": [
    "Sometimes we are interested in a specific column of a DataFrame, e.g. we want to use it as feature/label. we can select a single column using `dataframe['column_name']`, this will return a [Series](https://pandas.pydata.org/docs/reference/api/pandas.Series.to_numpy.html#pandas.Series.to_numpy) object. Series object has a method `Series.to_numpy()` which will give us a NumPy ndarray representing the values in this Series. You will repeatedly use this method through this course."
   ]
  },
  {
   "cell_type": "code",
   "execution_count": null,
   "id": "ecc6f2b2",
   "metadata": {
    "ExecuteTime": {
     "end_time": "2022-01-07T13:08:54.296879Z",
     "start_time": "2022-01-07T13:08:54.288654Z"
    },
    "deletable": false,
    "editable": false,
    "nbgrader": {
     "cell_type": "code",
     "checksum": "40caf76832de053e96ebaae8bc795669",
     "grade": false,
     "grade_id": "cell-cf90d7dc8402d58a",
     "locked": true,
     "schema_version": 3,
     "solution": false,
     "task": false
    },
    "tags": []
   },
   "outputs": [],
   "source": [
    "# Let us select only the column \"temperature\" of the DataFrame \"data\"\n",
    "tmp = data['temperature'] \n",
    "\n",
    "print(type(tmp),'\\n') # check the type of this object\n",
    "print(tmp)"
   ]
  },
  {
   "cell_type": "code",
   "execution_count": null,
   "id": "c70b175f",
   "metadata": {
    "ExecuteTime": {
     "end_time": "2022-01-07T13:08:54.308903Z",
     "start_time": "2022-01-07T13:08:54.300369Z"
    },
    "deletable": false,
    "editable": false,
    "nbgrader": {
     "cell_type": "code",
     "checksum": "0201d96c69241c28a8dcf78a5f1c2f00",
     "grade": false,
     "grade_id": "cell-3a2bd8930083b3f3",
     "locked": true,
     "schema_version": 3,
     "solution": false,
     "task": false
    },
    "tags": []
   },
   "outputs": [],
   "source": [
    "data['temperature'].to_numpy() # extract the values stored in a specific column into a ndarray"
   ]
  },
  {
   "cell_type": "markdown",
   "id": "842d40f9",
   "metadata": {
    "deletable": false,
    "editable": false,
    "nbgrader": {
     "cell_type": "markdown",
     "checksum": "1439f2477e67829d9a2853c9fc67c0d3",
     "grade": false,
     "grade_id": "cell-90c119c45d708563",
     "locked": true,
     "schema_version": 3,
     "solution": false,
     "task": false
    }
   },
   "source": [
    "We can select a single row by using dataframe.loc[ ] or dataframe.iloc[ ], the returned object is also Series.\n",
    "dataframe.iloc[ ] and dataframe.loc[ ] in fact can be used in multiple ways to do dataframe slicing, for more details please read [the documentation](https://pandas.pydata.org/docs/reference/frame.html)."
   ]
  },
  {
   "cell_type": "code",
   "execution_count": null,
   "id": "159bee1b",
   "metadata": {
    "ExecuteTime": {
     "end_time": "2022-01-07T13:08:54.323690Z",
     "start_time": "2022-01-07T13:08:54.311981Z"
    },
    "deletable": false,
    "editable": false,
    "nbgrader": {
     "cell_type": "code",
     "checksum": "572dda4ee4e02309995adcfe6e17a521",
     "grade": false,
     "grade_id": "cell-21f795881988cc72",
     "locked": true,
     "schema_version": 3,
     "solution": false,
     "task": false
    },
    "tags": []
   },
   "outputs": [],
   "source": [
    "# select the first weather recording (row) stored in the DataFrame \"data\"\n",
    "firstrow = data.iloc[0]  # `0` is the index of the first row\n",
    "\n",
    "print(\"The first row: \\n\",firstrow) \n",
    "\n",
    "# select the row with row label name `3` by using data.loc[ ]\n",
    "# NOTE `3` is interpreted as a row label name , not an integer position along the index\n",
    "# the row label name could be string or other data type, not only int\n",
    "rowName3 = data.loc[3] \n",
    "print(\"\\n The row with row label name '3': \\n\",rowName3) "
   ]
  },
  {
   "cell_type": "code",
   "execution_count": null,
   "id": "5ac9fcbc",
   "metadata": {
    "ExecuteTime": {
     "end_time": "2022-01-07T13:08:54.344110Z",
     "start_time": "2022-01-07T13:08:54.328013Z"
    },
    "deletable": false,
    "editable": false,
    "nbgrader": {
     "cell_type": "code",
     "checksum": "38953fb38bac6c9e8bacd059670101f0",
     "grade": false,
     "grade_id": "cell-85df995348f6ed3a",
     "locked": true,
     "schema_version": 3,
     "solution": false,
     "task": false
    },
    "tags": []
   },
   "outputs": [],
   "source": [
    "# we can select a subset of a DataFrame on some condition and create a new DataFrame\n",
    "\n",
    "# create a \"newdataset\" which consists only of weather recordings in \"data\" at \"time\" `03:00`\n",
    "newdataset= data[data['time'] == '03:00'] ; \n",
    "\n",
    "# print randomly selected five weather recordings (rows) of \"newdataset\"\n",
    "newdataset.sample(5) "
   ]
  },
  {
   "cell_type": "markdown",
   "id": "65e33215",
   "metadata": {
    "deletable": false,
    "editable": false,
    "nbgrader": {
     "cell_type": "markdown",
     "checksum": "7e2f614a7186b4c31b884318cf13f85b",
     "grade": false,
     "grade_id": "cell-0dac08dc476caf9f",
     "locked": true,
     "schema_version": 3,
     "solution": false,
     "task": false
    }
   },
   "source": [
    "## Preparing Features and Labels from DataFrame"
   ]
  },
  {
   "cell_type": "markdown",
   "id": "c49008f6",
   "metadata": {
    "ExecuteTime": {
     "end_time": "2021-12-20T07:56:48.798882Z",
     "start_time": "2021-12-20T07:56:48.783955Z"
    },
    "deletable": false,
    "editable": false,
    "nbgrader": {
     "cell_type": "markdown",
     "checksum": "87cabb9a46098ec379996ca0407c2a90",
     "grade": false,
     "grade_id": "cell-ee62dc21349b1342",
     "locked": true,
     "schema_version": 3,
     "solution": false,
     "task": false
    }
   },
   "source": [
    "<div class=\" alert alert-info\" >\n",
    "\n",
    "## Demo\n",
    "\n",
    "Consider the weather observations recorded in `air_temp.csv` and loaded into the dataframe `data`. Let us now demonstrate how to define datapoints, their features and labels based on these weather observations. It is important to note that the choice (definition) of datapoints, their features and labels are design choices. \n",
    "    \n",
    "We like to define a datapoint to represent an entire day, e.g., \n",
    "* first datapoint represents the day `2021-06-01`,\n",
    "* second datapoint represents the day `2021-06-02`,\n",
    "* third datapoint represents the day `2021-06-03`, \n",
    "* ...\n",
    "\n",
    "The total number $m$ of datapoints is the number of days for which `data` contains weather recordings for daytime `01:00` and `12:00`. \n",
    "    \n",
    "We characterize the $i$-th datapoint (day) using \n",
    "* the temperature recorded at 01:00 during the $i$th day as its feature $x^{(i)}$\n",
    "* the temperature recorded at 12:00 during the $i$th day as its label $y^{(i)}$\n",
    "\n",
    "We store the feature values $x^{(i)},i=1,\\ldots,m$ in a (two-dimensional) numpy array `X_demo` with shape `(m,1)`. The feature value $x^{(i)}$ is stored in the entry `X_demo[i-1,0]` (note that indexing of numpy arrays starts with 0!). The label values $y^{(i)},i=1,\\ldots,m$ are stored in a (one-dimensional) numpy array `y_demo` with shape `(m,)`. Finally, we generate a scatterplot where the $i$th datapoint is depicted by a dot located at coordinates $\\big(x^{(i)},y^{(i)}\\big)$. \n",
    "\n",
    "HINT: Reshape `X_demo` into a 2-D array by using array.reshape(-1, 1). This asks numpy to make the second dimension length one and automatically calculate the needed length of the first dimension so that the feature fits in the container which expects a 2-D array. (e.g.,the  .fit() method of [LinearRegression](https://scikit-learn.org/stable/modules/generated/sklearn.linear_model.LinearRegression.html#sklearn.linear_model.LinearRegression.fit))\n",
    "</div>"
   ]
  },
  {
   "cell_type": "code",
   "execution_count": 49,
   "id": "0ddf667d",
   "metadata": {
    "ExecuteTime": {
     "end_time": "2022-01-07T13:08:54.601081Z",
     "start_time": "2022-01-07T13:08:54.348124Z"
    },
    "deletable": false,
    "editable": false,
    "nbgrader": {
     "cell_type": "code",
     "checksum": "e6a1fb3c8a9e59b6066d2673588c563f",
     "grade": false,
     "grade_id": "cell-05cd614948ab74ec",
     "locked": true,
     "schema_version": 3,
     "solution": false,
     "task": false
    },
    "tags": []
   },
   "outputs": [
    {
     "name": "stdout",
     "output_type": "stream",
     "text": [
      "number of datapoints: 92\n",
      "the shape of the feature matrix is:  (92, 1)\n",
      "the shape of the label vector is:  (92,)\n"
     ]
    }
   ],
   "source": [
    "# create a list containing the dates for which at least one recording is contained in \"data\"\n",
    "dates = data['date'].unique() \n",
    "\n",
    "features = []   # list used for storing features of datapoints\n",
    "labels = []     # list used for storing labels of datapoints\n",
    "\n",
    "m = 0    # number of datapoints created so far\n",
    "\n",
    "# iterate through the list of dates for which we have weather recordings\n",
    "for date in dates:\n",
    "    datapoint = data[(data['date']==date)]  # select weather recordinds corresponding at day \"date\"\n",
    "    row_f = datapoint[(datapoint.time=='01:00')]    # select weather recording at time \"01:00\"\n",
    "    row_l = datapoint[(datapoint.time=='12:00')]    # select weather recording at time \"12:00\"\n",
    "    if len(row_f)==1 and len(row_l)==1:\n",
    "        feature = row_f['temperature'].to_numpy()[0]  # extract the temperature recording at \"01:00\" as feature\n",
    "        label = row_l['temperature'].to_numpy()[0]    # extract the temperature recording at \"12:00\" as label\n",
    "        features.append(feature)                  # add feature to list \"features\"\n",
    "        labels.append(label)                      # add label to list \"labels\"\n",
    "        m = m+1\n",
    "        \n",
    "X_demo = np.array(features).reshape(m,1)  # convert a list of len=m to a ndarray and reshape it to (m,1)\n",
    "y_demo = np.array(labels) # convert a list of len=m to a ndarray \n",
    "\n",
    "print(\"number of datapoints:\",m)\n",
    "print(\"the shape of the feature matrix is: \",X_demo.shape)\n",
    "print('the shape of the label vector is: ',y_demo.shape)"
   ]
  },
  {
   "cell_type": "code",
   "execution_count": 50,
   "id": "82a280fe",
   "metadata": {
    "ExecuteTime": {
     "end_time": "2022-01-07T13:08:54.909067Z",
     "start_time": "2022-01-07T13:08:54.612434Z"
    },
    "deletable": false,
    "editable": false,
    "nbgrader": {
     "cell_type": "code",
     "checksum": "000ca6e2a1b12855c29093d2467b2780",
     "grade": false,
     "grade_id": "cell-8d25839bf52a5bfa",
     "locked": true,
     "schema_version": 3,
     "solution": false,
     "task": false
    },
    "tags": []
   },
   "outputs": [
    {
     "data": {
      "image/png": "[encoded data removed]",
      "text/plain": [
       "<Figure size 640x480 with 1 Axes>"
      ]
     },
     "metadata": {},
     "output_type": "display_data"
    }
   ],
   "source": [
    "# visualize the datapoints\n",
    "fig = plt.figure()  #create a figure\n",
    "\n",
    "ax = fig.add_subplot(1, 1, 1) #add an axes object to the figure\n",
    "\n",
    "ax.scatter(X_demo,y_demo) #plot a scatterplot in the axes to visualize the datapoints\n",
    "ax.set_xlabel('Temperature at 01:00') # set the label of x axis\n",
    "ax.set_ylabel('Temperature at 12:00') # \n",
    "ax.set_title('Tmp_01:00 vs Tmp_12:00')\n",
    "\n",
    "plt.show()\n",
    "\n",
    "# one line of code `plt.scatter(X_demo,y_demo)` without creating figure and axes objects \n",
    "# can also realize a scatter plot, but it's worth getting yourself familiar with the relation among figure, axes and plot"
   ]
  },
  {
   "cell_type": "markdown",
   "id": "fc4f01aa",
   "metadata": {
    "deletable": false,
    "editable": false,
    "nbgrader": {
     "cell_type": "markdown",
     "checksum": "d236276a05cd8b89a8fe03b2fa21692e",
     "grade": false,
     "grade_id": "cell-e1006521b3fdc6d8",
     "locked": true,
     "schema_version": 3,
     "solution": false,
     "task": false
    }
   },
   "source": [
    "<div class=\" alert alert-warning\">\n",
    "\n",
    "## Student Task A1.6\n",
    "\n",
    "Consider the weather observations recorded in `air_temp.csv` and loaded into the dataframe `data`. \n",
    "We define a datapoint to represent an entire day, \n",
    "* First datapoint represents the day `2021-06-01`,\n",
    "* Second datapoint represents the day `2021-06-02`,\n",
    "* Third datapoint represents the day `2021-06-03`, \n",
    "* ...\n",
    "    \n",
    "The total number $m$ of datapoints is the number of days for which `data` contains weather recordings for daytime `11:00` and `12:00`. \n",
    "    \n",
    "We characterize the $i$-th datapoint (day) using \n",
    "* The temperature recorded at 11:00 during the $i$th day as its feature $x^{(i)}$\n",
    "* The temperature recorded at 12:00 during the $i$th day as its label $y^{(i)}$\n",
    "    \n",
    "Store the feature values in a numpy array `X` of shape `(m,1)` and the label values in a numpy array `y` of shape `(m,)`. \n",
    "    \n",
    "</div>"
   ]
  },
  {
   "cell_type": "code",
   "execution_count": 51,
   "id": "b1f71ec5",
   "metadata": {
    "ExecuteTime": {
     "end_time": "2022-01-07T13:08:55.248885Z",
     "start_time": "2022-01-07T13:08:54.916749Z"
    },
    "deletable": false,
    "nbgrader": {
     "cell_type": "code",
     "checksum": "8e9e1b4ed4dfc529a2311b097a883cf9",
     "grade": false,
     "grade_id": "cell-9f36d4b4cb51b88a",
     "locked": false,
     "schema_version": 3,
     "solution": true,
     "task": false
    },
    "tags": []
   },
   "outputs": [],
   "source": [
    "## Generate your own datapoints with feature X = “tmp at 11:00” and label y = “tmp at 12:00\"\n",
    "\n",
    "dates = data['date'].unique()\n",
    "features = []\n",
    "labels = []\n",
    "\n",
    "m = 0\n",
    "\n",
    "for date in dates:\n",
    "    datapoint = data[(data['date']==date)]\n",
    "    row_f = datapoint[(datapoint.time=='11:00')]\n",
    "    row_l = datapoint[(datapoint.time=='12:00')]\n",
    "    if len(row_f)==1 and len(row_l)==1:\n",
    "        feature = row_f['temperature'].to_numpy()[0]\n",
    "        label = row_l['temperature'].to_numpy()[0]\n",
    "        features.append(feature)\n",
    "        labels.append(label)\n",
    "        m = m+1\n",
    "\n",
    "X = np.array(features).reshape(m,1)\n",
    "y = np.array(labels)\n",
    "\n",
    "# Sanity check to help you detect major mistakes\n",
    "assert np.isclose(X[0, 0], 14.1), 'Feature matrix is incorrect'\n",
    "assert X.shape == (91,1), 'The shape of feature matrix is incorrect'\n",
    "assert y.shape == (91,), 'The shape of label vector is incorrect'"
   ]
  },
  {
   "cell_type": "code",
   "execution_count": null,
   "id": "70b7c038",
   "metadata": {
    "ExecuteTime": {
     "end_time": "2022-01-07T13:08:55.477657Z",
     "start_time": "2022-01-07T13:08:55.251158Z"
    },
    "deletable": false,
    "editable": false,
    "nbgrader": {
     "cell_type": "code",
     "checksum": "3392f92a448fa778c66f224aa9c759d0",
     "grade": true,
     "grade_id": "cell-1ebc0fd5486e2842",
     "locked": true,
     "points": 1,
     "schema_version": 3,
     "solution": false,
     "task": false
    },
    "tags": []
   },
   "outputs": [],
   "source": [
    "#this cell is for tests, please leave it as it is.\n"
   ]
  },
  {
   "cell_type": "markdown",
   "id": "71ea7f0c",
   "metadata": {
    "deletable": false,
    "editable": false,
    "nbgrader": {
     "cell_type": "markdown",
     "checksum": "e9bff1abc204cc63d0462279b38ae4d7",
     "grade": false,
     "grade_id": "cell-5bba45799221b46b",
     "locked": true,
     "schema_version": 3,
     "solution": false,
     "task": false
    }
   },
   "source": [
    "# Linear Regression\n",
    "\n",
    "Now, you have basic knowledge of how to load data and interact with python matrix operations. In this section we will focus on buliding linear regression. The learning golas are :\n",
    "\n",
    "- be able to learn a linear hypothesis to predict labels of datapoints\n",
    "- be able to learn a polynomial hypothesis to predict labels of datapoints\n",
    "- understand the effect of enlarging the model on the resulting training error\n",
    "- understand the effect of enlarging the training set on the resulting training error\n"
   ]
  },
  {
   "cell_type": "markdown",
   "id": "e8946c3e",
   "metadata": {
    "deletable": false,
    "editable": false,
    "nbgrader": {
     "cell_type": "markdown",
     "checksum": "73e8e3e1ffdf0233115ee8bc99641cc8",
     "grade": false,
     "grade_id": "cell-cce9e207a12f3de5",
     "locked": true,
     "schema_version": 3,
     "solution": false,
     "task": false
    }
   },
   "source": [
    "<div class=\" alert alert-warning\">\n",
    "\n",
    "## Student Task A1.7\n",
    "\n",
    "Consider datapoints that represent the daily weather conditions at some place in Finland. We can characterize these datapoints using weather recordings from the [Finnish Meteorological Institute](https://en.ilmatieteenlaitos.fi/). For your convenience we have already downloaded and stored these recordings in the csv file `FMIData_Assignment1.csv`. This task requires you to first read in the weather recordings from this file and store them in a `pandas` dataframe with the name `FMIRawData`. \n",
    "    \n",
    "Each row of dataframe `FMIRawData` contains a weather recording along with a time-stamp. We will use for each datapoint the weather recording with time-stamp `00:00`. For the $i$th day, we use the value in the column \"Minimum temperature\" as the feature $x^{(i)}$ and the value in the column \"Maximum temperature\" as the label $y^{(i)}$. You then have to collect the feature values in a two-dimensional numpy array `X` of shape `(m,1)` with `m` being the number of different datapoints (days) listed in `FMIData_Assignment1.csv`. Similarly, you have to collect the label values $y^{(i)}$, for $i=1,\\ldots,m$ in a one-dimensional numpy array `y` of shape `(m)` (which is sometimes written as `(m,)`). \n",
    "</div>"
   ]
  },
  {
   "cell_type": "markdown",
   "id": "92f177d6",
   "metadata": {
    "deletable": false,
    "editable": false,
    "nbgrader": {
     "cell_type": "markdown",
     "checksum": "880a235d747294471636d90a9aa3065c",
     "grade": false,
     "grade_id": "cell-e6e6c4a21c22ccf0",
     "locked": true,
     "schema_version": 3,
     "solution": false,
     "task": false
    }
   },
   "source": [
    "<div class=\" alert alert-warning\">\n",
    "\n",
    "As the very first step you need to use `pd.read_csv()` to load the weather recordings stored in the file `FMIData_Assignment1.csv` into a `pandas` dataframe `FMIRawData`.\n",
    "</div>"
   ]
  },
  {
   "cell_type": "code",
   "execution_count": 52,
   "id": "83751f38",
   "metadata": {
    "deletable": false,
    "nbgrader": {
     "cell_type": "code",
     "checksum": "f7a784a3770218e0cbff738e28223a78",
     "grade": false,
     "grade_id": "cell-d8577e9f20234f5b",
     "locked": false,
     "schema_version": 3,
     "solution": true,
     "task": false
    },
    "tags": []
   },
   "outputs": [
    {
     "data": {
      "text/html": [
       "<div>\n",
       "<style scoped>\n",
       "    .dataframe tbody tr th:only-of-type {\n",
       "        vertical-align: middle;\n",
       "    }\n",
       "\n",
       "    .dataframe tbody tr th {\n",
       "        vertical-align: top;\n",
       "    }\n",
       "\n",
       "    .dataframe thead th {\n",
       "        text-align: right;\n",
       "    }\n",
       "</style>\n",
       "<table border=\"1\" class=\"dataframe\">\n",
       "  <thead>\n",
       "    <tr style=\"text-align: right;\">\n",
       "      <th></th>\n",
       "      <th>Year</th>\n",
       "      <th>m</th>\n",
       "      <th>d</th>\n",
       "      <th>Time</th>\n",
       "      <th>Time zone</th>\n",
       "      <th>Precipitation amount (mm)</th>\n",
       "      <th>Snow depth (cm)</th>\n",
       "      <th>Air temperature (degC)</th>\n",
       "      <th>Ground minimum temperature (degC)</th>\n",
       "      <th>Maximum temperature (degC)</th>\n",
       "      <th>Minimum temperature (degC)</th>\n",
       "    </tr>\n",
       "  </thead>\n",
       "  <tbody>\n",
       "    <tr>\n",
       "      <th>0</th>\n",
       "      <td>2020</td>\n",
       "      <td>1</td>\n",
       "      <td>1</td>\n",
       "      <td>00:00</td>\n",
       "      <td>UTC</td>\n",
       "      <td>0.0</td>\n",
       "      <td>-1.0</td>\n",
       "      <td>1.5</td>\n",
       "      <td>NaN</td>\n",
       "      <td>3.4</td>\n",
       "      <td>-2.6</td>\n",
       "    </tr>\n",
       "    <tr>\n",
       "      <th>1</th>\n",
       "      <td>2020</td>\n",
       "      <td>1</td>\n",
       "      <td>1</td>\n",
       "      <td>06:00</td>\n",
       "      <td>UTC</td>\n",
       "      <td>NaN</td>\n",
       "      <td>NaN</td>\n",
       "      <td>NaN</td>\n",
       "      <td>-5.7</td>\n",
       "      <td>NaN</td>\n",
       "      <td>NaN</td>\n",
       "    </tr>\n",
       "    <tr>\n",
       "      <th>2</th>\n",
       "      <td>2020</td>\n",
       "      <td>1</td>\n",
       "      <td>2</td>\n",
       "      <td>00:00</td>\n",
       "      <td>UTC</td>\n",
       "      <td>-1.0</td>\n",
       "      <td>-1.0</td>\n",
       "      <td>3.6</td>\n",
       "      <td>NaN</td>\n",
       "      <td>5.1</td>\n",
       "      <td>1.8</td>\n",
       "    </tr>\n",
       "    <tr>\n",
       "      <th>3</th>\n",
       "      <td>2020</td>\n",
       "      <td>1</td>\n",
       "      <td>2</td>\n",
       "      <td>06:00</td>\n",
       "      <td>UTC</td>\n",
       "      <td>NaN</td>\n",
       "      <td>NaN</td>\n",
       "      <td>NaN</td>\n",
       "      <td>0.1</td>\n",
       "      <td>NaN</td>\n",
       "      <td>NaN</td>\n",
       "    </tr>\n",
       "    <tr>\n",
       "      <th>4</th>\n",
       "      <td>2020</td>\n",
       "      <td>1</td>\n",
       "      <td>3</td>\n",
       "      <td>00:00</td>\n",
       "      <td>UTC</td>\n",
       "      <td>1.2</td>\n",
       "      <td>-1.0</td>\n",
       "      <td>4.6</td>\n",
       "      <td>NaN</td>\n",
       "      <td>5.7</td>\n",
       "      <td>4.3</td>\n",
       "    </tr>\n",
       "  </tbody>\n",
       "</table>\n",
       "</div>"
      ],
      "text/plain": [
       "   Year  m  d   Time Time zone  Precipitation amount (mm)  Snow depth (cm)  \\\n",
       "0  2020  1  1  00:00       UTC                        0.0             -1.0   \n",
       "1  2020  1  1  06:00       UTC                        NaN              NaN   \n",
       "2  2020  1  2  00:00       UTC                       -1.0             -1.0   \n",
       "3  2020  1  2  06:00       UTC                        NaN              NaN   \n",
       "4  2020  1  3  00:00       UTC                        1.2             -1.0   \n",
       "\n",
       "   Air temperature (degC)  Ground minimum temperature (degC)  \\\n",
       "0                     1.5                                NaN   \n",
       "1                     NaN                               -5.7   \n",
       "2                     3.6                                NaN   \n",
       "3                     NaN                                0.1   \n",
       "4                     4.6                                NaN   \n",
       "\n",
       "   Maximum temperature (degC)  Minimum temperature (degC)  \n",
       "0                         3.4                        -2.6  \n",
       "1                         NaN                         NaN  \n",
       "2                         5.1                         1.8  \n",
       "3                         NaN                         NaN  \n",
       "4                         5.7                         4.3  "
      ]
     },
     "execution_count": 52,
     "metadata": {},
     "output_type": "execute_result"
    }
   ],
   "source": [
    "## read in the data stored in the file 'FMIData_Assignment1.csv'\n",
    "\n",
    "# FMIRawData = ...\n",
    "\n",
    "FMIRawData = pd.read_csv('FMIData_Assignment1.csv')\n",
    "\n",
    "# print the first 5 rows of the DataFrame 'FMIRawData'\n",
    "FMIRawData.head(5)  "
   ]
  },
  {
   "cell_type": "code",
   "execution_count": null,
   "id": "d9d96abb-5613-4cbd-b27d-cb50ed970a96",
   "metadata": {
    "deletable": false,
    "editable": false,
    "nbgrader": {
     "cell_type": "code",
     "checksum": "8e35405cd07f7cff340f5c91f544f302",
     "grade": true,
     "grade_id": "cell-c84a0f0b1eaf32b9",
     "locked": true,
     "points": 0,
     "schema_version": 3,
     "solution": false,
     "task": false
    },
    "tags": []
   },
   "outputs": [],
   "source": [
    "## this cell is for tests, please leave it as it is\n",
    "\n",
    "# sanity check the shape of FMIRawData\n",
    "assert FMIRawData.shape == (1418,11)"
   ]
  },
  {
   "cell_type": "code",
   "execution_count": null,
   "id": "32f988db",
   "metadata": {
    "deletable": false,
    "editable": false,
    "nbgrader": {
     "cell_type": "code",
     "checksum": "189d9991f955bd8f700a3826fa186326",
     "grade": false,
     "grade_id": "cell-fe4d98576452b7d9",
     "locked": true,
     "schema_version": 3,
     "solution": false,
     "task": false
    },
    "tags": []
   },
   "outputs": [],
   "source": [
    "# print the column names\n",
    "FMIRawData.columns"
   ]
  },
  {
   "cell_type": "code",
   "execution_count": 53,
   "id": "e8119653",
   "metadata": {
    "deletable": false,
    "editable": false,
    "nbgrader": {
     "cell_type": "code",
     "checksum": "ece7ed667dc320d51b06a44f7acb2b03",
     "grade": false,
     "grade_id": "cell-c15e9c85dd1eb90c",
     "locked": true,
     "schema_version": 3,
     "solution": false,
     "task": false
    },
    "tags": []
   },
   "outputs": [
    {
     "data": {
      "text/html": [
       "<div>\n",
       "<style scoped>\n",
       "    .dataframe tbody tr th:only-of-type {\n",
       "        vertical-align: middle;\n",
       "    }\n",
       "\n",
       "    .dataframe tbody tr th {\n",
       "        vertical-align: top;\n",
       "    }\n",
       "\n",
       "    .dataframe thead th {\n",
       "        text-align: right;\n",
       "    }\n",
       "</style>\n",
       "<table border=\"1\" class=\"dataframe\">\n",
       "  <thead>\n",
       "    <tr style=\"text-align: right;\">\n",
       "      <th></th>\n",
       "      <th>Date</th>\n",
       "      <th>Time</th>\n",
       "      <th>AirTemp</th>\n",
       "      <th>GroundMinTmp</th>\n",
       "      <th>MaxTemp</th>\n",
       "      <th>MinTemp</th>\n",
       "    </tr>\n",
       "  </thead>\n",
       "  <tbody>\n",
       "    <tr>\n",
       "      <th>0</th>\n",
       "      <td>2020-1-1</td>\n",
       "      <td>00:00</td>\n",
       "      <td>1.5</td>\n",
       "      <td>NaN</td>\n",
       "      <td>3.4</td>\n",
       "      <td>-2.6</td>\n",
       "    </tr>\n",
       "    <tr>\n",
       "      <th>1</th>\n",
       "      <td>2020-1-1</td>\n",
       "      <td>06:00</td>\n",
       "      <td>NaN</td>\n",
       "      <td>-5.7</td>\n",
       "      <td>NaN</td>\n",
       "      <td>NaN</td>\n",
       "    </tr>\n",
       "    <tr>\n",
       "      <th>2</th>\n",
       "      <td>2020-1-2</td>\n",
       "      <td>00:00</td>\n",
       "      <td>3.6</td>\n",
       "      <td>NaN</td>\n",
       "      <td>5.1</td>\n",
       "      <td>1.8</td>\n",
       "    </tr>\n",
       "    <tr>\n",
       "      <th>3</th>\n",
       "      <td>2020-1-2</td>\n",
       "      <td>06:00</td>\n",
       "      <td>NaN</td>\n",
       "      <td>0.1</td>\n",
       "      <td>NaN</td>\n",
       "      <td>NaN</td>\n",
       "    </tr>\n",
       "    <tr>\n",
       "      <th>4</th>\n",
       "      <td>2020-1-3</td>\n",
       "      <td>00:00</td>\n",
       "      <td>4.6</td>\n",
       "      <td>NaN</td>\n",
       "      <td>5.7</td>\n",
       "      <td>4.3</td>\n",
       "    </tr>\n",
       "  </tbody>\n",
       "</table>\n",
       "</div>"
      ],
      "text/plain": [
       "       Date   Time  AirTemp  GroundMinTmp  MaxTemp  MinTemp\n",
       "0  2020-1-1  00:00      1.5           NaN      3.4     -2.6\n",
       "1  2020-1-1  06:00      NaN          -5.7      NaN      NaN\n",
       "2  2020-1-2  00:00      3.6           NaN      5.1      1.8\n",
       "3  2020-1-2  06:00      NaN           0.1      NaN      NaN\n",
       "4  2020-1-3  00:00      4.6           NaN      5.7      4.3"
      ]
     },
     "execution_count": 53,
     "metadata": {},
     "output_type": "execute_result"
    }
   ],
   "source": [
    "## execute some operations to make the dataframe layout tidy\n",
    "\n",
    "# remove columns 'Time zone', 'Precipitation amount (mm)','Snow depth (cm)' that are not used \n",
    "# and return a new dataframe \"data\"\n",
    "data = FMIRawData.drop(['Time zone', 'Precipitation amount (mm)','Snow depth (cm)'],axis=1)\n",
    "\n",
    "# change column names\n",
    "data.columns=['Year','Month', 'Day', 'Time', 'AirTemp','GroundMinTmp','MaxTemp','MinTemp'] \n",
    "\n",
    "# concatenate the 3 columns \"Year\", \"Month\", \"Day\" into a new column \"Date\" in format e.g. 2022-01-26\n",
    "date_column = data[\"Year\"].astype(str)+'-'+data[\"Month\"].astype(str)+'-'+data[\"Day\"].astype(str)\n",
    "data.insert(0,\"Date\",date_column)\n",
    "\n",
    "# drop useless columns NOTE: set inplace=True to do the operation inplace instead of retrun a new dataframe\n",
    "data.drop(['Year','Month','Day'],axis=1,inplace=True)\n",
    "\n",
    "data.head()"
   ]
  },
  {
   "cell_type": "markdown",
   "id": "6ddb1034",
   "metadata": {
    "deletable": false,
    "editable": false,
    "nbgrader": {
     "cell_type": "markdown",
     "checksum": "9b49d79fb3b685b5b7fa3415caf3a1b9",
     "grade": false,
     "grade_id": "cell-16fc0d45a86b9923",
     "locked": true,
     "schema_version": 3,
     "solution": false,
     "task": false
    }
   },
   "source": [
    "<div class=\" alert alert-warning\">\n",
    "\n",
    "\n",
    "We next select only rows with time-stamp `\"00:00\"` and then select the values from relevant columns to build the feature matrix and label vector. \n",
    "Hints: \n",
    "\n",
    "- Select only weather recordings whose property `Time` is equal to `\"00:00\"` to create a new dataframe `newdata`.\n",
    "  Here is a tutorial for how to select rows from pandas dataframe based on column values: [link](https://towardsdatascience.com/how-to-select-rows-from-pandas-dataframe-based-on-column-values-d3f5da421e93).\n",
    "\n",
    "- Select the column `MinTemp` of the DataFrame `newdata` as features `X`(using capital x to denote a feature matrix is a convention) and `MaxTemp` as labels `y`. You can checkout this link to see more details about [how to select columns based on column names.](https://pandas.pydata.org/docs/getting_started/intro_tutorials/03_subset_data.html)\n",
    "- Use the `Series.to_numpy()`method to convert the selected column to a NumPy array for both `X` and `y`.\n",
    "- Reshape `X` into a 2D array by using array.reshape(-1, 1). This asks numpy to make the second dimension length one and automatically calculate the needed length of the first dimension so that the feature fits in the container which expects a 2D array. (For more details, please check the documentation of .fit() method of [LinearRegression](https://scikit-learn.org/stable/modules/generated/sklearn.linear_model.LinearRegression.html#sklearn.linear_model.LinearRegression.fit)).\n",
    "</div>"
   ]
  },
  {
   "cell_type": "code",
   "execution_count": 54,
   "id": "bf164287",
   "metadata": {
    "deletable": false,
    "nbgrader": {
     "cell_type": "code",
     "checksum": "459e9ef03ee6a9b564362cdc17cb5359",
     "grade": false,
     "grade_id": "cell-6fa3d3aa9db4e087",
     "locked": false,
     "schema_version": 3,
     "solution": true,
     "task": false
    },
    "tags": []
   },
   "outputs": [
    {
     "name": "stdout",
     "output_type": "stream",
     "text": [
      "First five rows of the dataframe 'newdata'\n",
      "        Date   Time  AirTemp  GroundMinTmp  MaxTemp  MinTemp\n",
      "0  2020-1-1  00:00      1.5           NaN      3.4     -2.6\n",
      "2  2020-1-2  00:00      3.6           NaN      5.1      1.8\n",
      "4  2020-1-3  00:00      4.6           NaN      5.7      4.3\n",
      "6  2020-1-4  00:00      1.7           NaN      4.7      0.7\n",
      "8  2020-1-5  00:00     -1.6           NaN      1.9     -4.9\n"
     ]
    }
   ],
   "source": [
    "## 1. Filter rows of data using some condition\n",
    "## Select only recordings whose property \"Time\" is equal to \"00:00\" and create a new dataframe named \"newdata\"\n",
    "\n",
    "# newdata = data[...]  # NOTE: the dtype of column \"Time\" is string, \n",
    "newdata = data[data['Time'] == '00:00']\n",
    "X = newdata['MinTemp'].to_numpy()\n",
    "y = newdata[\"MaxTemp\"].to_numpy()\n",
    "\n",
    "## print the firt 5 rows\n",
    "print(\"First five rows of the dataframe 'newdata'\\n\",newdata.head())"
   ]
  },
  {
   "cell_type": "code",
   "execution_count": 61,
   "id": "74b289a3",
   "metadata": {
    "deletable": false,
    "nbgrader": {
     "cell_type": "code",
     "checksum": "e93d9af4c5ac9b819140662a5b5c7155",
     "grade": false,
     "grade_id": "cell-414e140d6f1592ef",
     "locked": false,
     "schema_version": 3,
     "solution": true,
     "task": false
    },
    "tags": []
   },
   "outputs": [
    {
     "name": "stdout",
     "output_type": "stream",
     "text": [
      "-2.6\n"
     ]
    }
   ],
   "source": [
    "## 2. From the dataframe \"newdata\" select specific properties as features and labels:\n",
    "##   1) Select the property `MinTemp` for each row (datapoint) of the DataFrame `newdata` as features `X` \n",
    "##       and `MaxTemp` as labels `y`.\n",
    "##   2) Use the `Series.to_numpy()` to return NumPy representations of the features and labels\n",
    "##   3) Reshape the feature X using array.reshape(-1, 1)\n",
    "\n",
    "X = newdata['MinTemp'].to_numpy()\n",
    "y = newdata[\"MaxTemp\"].to_numpy()\n",
    "\n",
    "X = X.reshape(-1,1)"
   ]
  },
  {
   "cell_type": "code",
   "execution_count": 62,
   "id": "410469f1",
   "metadata": {
    "deletable": false,
    "editable": false,
    "nbgrader": {
     "cell_type": "code",
     "checksum": "9b20a600c79b730f25ae18b89a849577",
     "grade": true,
     "grade_id": "cell-38690e8c72cb4058",
     "locked": true,
     "points": 1,
     "schema_version": 3,
     "solution": false,
     "task": false
    },
    "tags": []
   },
   "outputs": [],
   "source": [
    "## this cell is for tests, please leave it as it is\n",
    "\n",
    "## sanity check the value of feature matrix\n",
    "assert np.isclose(X[0,0],-2.6), \"Feature matrix value is incorrect\"\n",
    "assert np.isclose(y[0],3.4), \"Label vector value is incorrect\"\n",
    "\n",
    "## sanity check the shape of feature matrix and label vector\n",
    "assert X.shape == (713,1), \"The shape of X is incorrect!\"\n",
    "assert y.shape == (713,), \"The shape of y is incorrect!\"\n"
   ]
  },
  {
   "cell_type": "markdown",
   "id": "8973a991",
   "metadata": {
    "deletable": false,
    "editable": false,
    "nbgrader": {
     "cell_type": "markdown",
     "checksum": "82ebdaed65a67fb97391d3723d2596b7",
     "grade": false,
     "grade_id": "cell-a5501f1b1acb1ff7",
     "locked": true,
     "schema_version": 3,
     "solution": false,
     "task": false
    }
   },
   "source": [
    "<div class=\"alert alert-info\">\n",
    "    \n",
    "## DEMO: visualize the dataset\n",
    "    \n",
    "When you are facing a raw dataset, there will be several stages before feeding it to a ML model: Data cleaning, Data preprocessing, Data Visualization, etc. Among them one key stage is **Data Visualization**. This is the first step where you can get a high level statistical overview on how the data is. Some of its attributes like the underlying relationship and distribution, presence of outliers will also show during visualization.\n",
    "\n",
    "Two commonly used plots are [scatter plot](https://matplotlib.org/stable/api/_as_gen/matplotlib.pyplot.scatter.html) and [histogram plot](https://matplotlib.org/stable/api/_as_gen/matplotlib.pyplot.hist.html). Scatter plot is used to show the relationship between two variables, for example heights and weight, age and salary. Histogram plot is used to see the count of datapoints with the same value for a given attribute, i.e., the distribution of a variable.\n",
    "\n",
    "In the figure below, scatter plots are applied to show the relationship of the min temperature and max temperature, we can roughly see they are positively related, and a histogram plot is used to show the distribution of max temperature, we can see that majority of them are above zero.\n",
    "</div>"
   ]
  },
  {
   "cell_type": "code",
   "execution_count": 63,
   "id": "c960d4c2",
   "metadata": {
    "deletable": false,
    "editable": false,
    "nbgrader": {
     "cell_type": "code",
     "checksum": "e028dd585384d3c8b1670b3ab82f394c",
     "grade": false,
     "grade_id": "cell-bde030d81579f528",
     "locked": true,
     "schema_version": 3,
     "solution": false,
     "task": false
    },
    "tags": []
   },
   "outputs": [
    {
     "data": {
      "image/png": "[encoded data removed]",
      "text/plain": [
       "<Figure size 1400x500 with 2 Axes>"
      ]
     },
     "metadata": {},
     "output_type": "display_data"
    }
   ],
   "source": [
    "# Visualize data\n",
    "fig, axes = plt.subplots(1, 2, figsize=(14,5)) # create a figure with two axes (1 row,2 columns) on it\n",
    "axes[0].scatter(data['MinTemp'],data['MaxTemp']) # plot a scatter plot on axes[0] to show the relation between MinTemp and MaxTemp\n",
    "axes[0].set_xlabel(\"mintemp\",size=15)\n",
    "axes[0].set_ylabel(\"maxtemp\",size=15)\n",
    "axes[0].set_title(\"mintemp vs maxtemp \",size=15)\n",
    "\n",
    "axes[1].hist(data['MaxTemp']) # plot a hist plot to show the distribution of MaxTemp\n",
    "axes[1].set_title('distribution of maxtemp',size=15)\n",
    "axes[1].set_ylabel(\"count of datapoints\",size=15)\n",
    "axes[1].set_xlabel(\"maxtemp intervals\",size=15)\n",
    "plt.show()\n"
   ]
  },
  {
   "cell_type": "markdown",
   "id": "fde9998f",
   "metadata": {
    "deletable": false,
    "editable": false,
    "nbgrader": {
     "cell_type": "markdown",
     "checksum": "6c2017b259fd69996f4ed4abab222b59",
     "grade": false,
     "grade_id": "cell-3a3e03c20df43625",
     "locked": true,
     "schema_version": 3,
     "solution": false,
     "task": false
    }
   },
   "source": [
    "<div class=\" alert alert-warning\">\n",
    "\n",
    "## Student Task A1.8\n",
    "\n",
    "Consider the dataset that we have loaded in the previous Student Task A2.1. We have stored the feature values and label values of the datapoints in the numpy array `X` and `y`, respectively. This task requires you to learn a linear map $h(x) = w_{0} + w_{1}x$ that allows to predict the label of datapoint based on its feature. To this end we will use the numpy arrays `X` and `y` from the previous task as a training set. \n",
    "\n",
    "The class [`LinearRegression()`](https://scikit-learn.org/stable/modules/generated/sklearn.linear_model.LinearRegression.html#sklearn.linear_model.LinearRegression) provides methods to search for optimal weights $w_{0}$ and $w_{1}$ from a linear hypothesis space: $$\n",
    "\\mathcal{H}^{(n)}_{\\rm linear} := \\big\\{ h: \\mathbb{R} \\mapsto \\mathbb{R} : h({\\bf x}) = \\mathbf{w}^T\\mathbf{x} \n",
    "=\n",
    "\\begin{bmatrix} w_0 & w_1 \\end{bmatrix}\n",
    "\\begin{bmatrix} 1 \\\\ x \\end{bmatrix}\n",
    "= w_0\\cdot 1 + w_1x,\\  w_{0},w_{1} \\in \\mathbb{R} \\big\\},\n",
    "$$such that the resulting average squared error loss on a given set of datapoints is minimal. In particular, the method [LinearRegression.fit()](https://scikit-learn.org/stable/modules/generated/sklearn.linear_model.LinearRegression.html#sklearn.linear_model.LinearRegression.fit) solves the optimization (training) problem \n",
    "   $$ \\min_{w_{1},w_{0} \\in \\mathbb{R}} (1/m)\\sum_{i=1}^{m} \\big (y^{(i)} - \\underbrace{\\big( w_{0} + w_{1} x^{(i)} \\big)}_{=h\\big(x^{(i)}\\big)} \\big)^{2}$$\n",
    "    \n",
    "<strong><i><u>Your task<i></u></strong> is to use the `LinearRegression.fit()` method to find the optimal parameters $w_{0}$ and $w_{1}$ and then compute the resulting predicted labels $\\hat{y}^{(i)}$ using the feature values in `X` (the features from the training set). You can use the method `LinearRegression.predict()` for computing the predicted labels. The predicted labels should be stored in the one-dimensional `numpy` array `y_pred` which has the same shape as `y` (from the previous student task). Based on the predicted labels you should also calculate the resulting training error $$(1/m) \\sum_{i=1}^{m} \\big(\\hat{y}^{(i)} - y^{(i)} \\big)^2.$$\n",
    "    \n",
    "Hints: you might find the function [mean_squared_error()](https://scikit-learn.org/stable/modules/model_evaluation.html#mean-squared-error) useful for computing the training error. \n",
    "</div>"
   ]
  },
  {
   "cell_type": "code",
   "execution_count": 64,
   "id": "f15a97ac",
   "metadata": {
    "deletable": false,
    "nbgrader": {
     "cell_type": "code",
     "checksum": "b0aad0bf629c26a8cb5eb7fcc6d45688",
     "grade": false,
     "grade_id": "cell-713b7c0ad6ef5af9",
     "locked": false,
     "schema_version": 3,
     "solution": true,
     "task": false
    },
    "tags": []
   },
   "outputs": [
    {
     "name": "stdout",
     "output_type": "stream",
     "text": [
      "The training error is:  9.969818232805473\n",
      "w1 =  [1.06990194]\n",
      "w0 =  6.207368376556122\n"
     ]
    }
   ],
   "source": [
    "## 1. Fit a linear regression model\n",
    "# regr = ...\n",
    "# regr.fit(...)\n",
    "\n",
    "## 2.Predict label values based on features and calculate the training error\n",
    "# y_pred = ...   \n",
    "# tr_error = ...\n",
    "\n",
    "# 1. Fit a linear regression model\n",
    "regr = LinearRegression()   # create a linear regression model\n",
    "regr.fit(X,y)   # fit the model on the training data\n",
    "\n",
    "# 2. Predict label values based on features and calculate the training error\n",
    "y_pred = regr.predict(X)   # predict the label values based on the features\n",
    "tr_error = mean_squared_error(y, y_pred)   # calculate the training error\n",
    "\n",
    "print('The training error is: ', tr_error)    # print the training error\n",
    "print(\"w1 = \", regr.coef_)   # print the learnt w1\n",
    "print(\"w0 = \",regr.intercept_) # print the learnt w0"
   ]
  },
  {
   "cell_type": "code",
   "execution_count": 65,
   "id": "405d72aa",
   "metadata": {
    "deletable": false,
    "editable": false,
    "nbgrader": {
     "cell_type": "code",
     "checksum": "62157c324dbe4d405dcc111197040b98",
     "grade": false,
     "grade_id": "cell-359a9f75c6b31430",
     "locked": true,
     "schema_version": 3,
     "solution": false,
     "task": false
    },
    "tags": []
   },
   "outputs": [
    {
     "data": {
      "image/png": "[encoded data removed]",
      "text/plain": [
       "<Figure size 800x600 with 1 Axes>"
      ]
     },
     "metadata": {},
     "output_type": "display_data"
    }
   ],
   "source": [
    "## visualize the model you have learnt, you are supposed to see the datapoints and the fitted h(x), a straignt line\n",
    "\n",
    "plt.figure(figsize=(8, 6))    # create a new figure with size 8*6\n",
    "\n",
    "# create a scatter plot of datapoints \n",
    "# each datapoint is depicted by a dot in color 'blue' and size '10'\n",
    "plt.scatter(X, y, color='b', s=8, label='datapoints from the dataframe \"newdata\"') \n",
    "\n",
    "# plot the predictions obtained by the learnt linear hypothesis using color 'red' and label the curve as \"h(x)\"\n",
    "y_pred = regr.predict(X)    # predict using the linear model\n",
    "plt.plot(X, y_pred, color='r', label='h(x)')  \n",
    "\n",
    "plt.xlabel('mintemp',size=15) # define label for the horizontal axis \n",
    "plt.ylabel('maxtemp',size=15) # define label for the vertical axis \n",
    "\n",
    "plt.title('Linear regression model',size=15) # define the title of the plot   \n",
    "plt.legend(loc='best',fontsize=14) # define the location of the legend  \n",
    "\n",
    "plt.show()  # display the plot on the screen \n"
   ]
  },
  {
   "cell_type": "code",
   "execution_count": null,
   "id": "717b25c1",
   "metadata": {
    "deletable": false,
    "editable": false,
    "nbgrader": {
     "cell_type": "code",
     "checksum": "5ff0a879e77f44c75acebec875e1ae41",
     "grade": true,
     "grade_id": "cell-1618f519355dd37e",
     "locked": true,
     "points": 1,
     "schema_version": 3,
     "solution": false,
     "task": false
    },
    "tags": []
   },
   "outputs": [],
   "source": [
    "# this cell is for tests\n"
   ]
  },
  {
   "cell_type": "markdown",
   "id": "3dc04c7d",
   "metadata": {
    "deletable": false,
    "editable": false,
    "nbgrader": {
     "cell_type": "markdown",
     "checksum": "5584c17d54d19e8fabab4b15d4408c2c",
     "grade": false,
     "grade_id": "cell-d89c0c271c83742b",
     "locked": true,
     "schema_version": 3,
     "solution": false,
     "task": false
    }
   },
   "source": [
    "<div class=\" alert alert-warning\">\n",
    "\n",
    "## Student Task A1.9\n",
    "    \n",
    "Consider datapoints with a single numeric feature $x$ and numeric label $y$. When the relation $x \\mapsto y$ between feature $x$ and label $y$ is non-linear, it might be useful to use a hypothesis space which is constituted by non-linear maps (a non-linear model). \n",
    "\n",
    "One basic, yet very useful, non-linear model is constituted by polynomials of given (maximum) degree n,\n",
    "$$\n",
    "\\mathcal{H}^{(n)}_{\\rm poly} = \\big\\{ h: \\mathbb{R} \\mapsto \\mathbb{R} : h(x)\n",
    "=\n",
    "\\begin{bmatrix} w_0 & w_1 & \\cdots & w_{n} \\end{bmatrix}\n",
    "\\begin{bmatrix} 1 \\\\ x \\\\ \\vdots \\\\ x^{n} \\end{bmatrix}\n",
    "=\n",
    "\\sum_{l=0}^{n} w_{l} x^{l},\\  w_{0},\\ldots,w_{n} \\in \\mathbb{R} \\big\\}.\n",
    "$$\n",
    "It is obvious that if we set the degree $n$ of a polynomial hypothesis to 1, then this polynomial hypothesis boils down to a linear hypothesis.\n",
    "\n",
    "We then learn the weights of the polynomial to minimize the average loss of the hypothesis on a training set. \n",
    "\n",
    "Instead of designing a new algorithm for optimizing the parameters of the polynomial we will re-use the algorithm for linear regression. The idea is to represent a polynomial as the concatentation of a feature map (transformation) and a linear map (which are used in linear regression). \n",
    "\n",
    "Any polynomial predictor $h(x) \\in \\mathcal{H}^{(n)}_{poly}$ is the concatenation of the feature map\n",
    "\\begin{equation}\n",
    "x\\mapsto \\phi(x) := \\underbrace{\\big(1, x, ..., x^n\\big)^T}_{\\text{ new feature vector $\\mathbf{x}$}} \\in \\mathbb{R}^{n+1}\n",
    "\\end{equation}\n",
    "with some linear map $\\tilde{h}:\\mathbb{R}^{n+1} \\rightarrow \\mathbb{R}:x \\mapsto \\mathbf{w}^T \\phi(x)$, i.e.,\n",
    "\\begin{equation}\n",
    "h(x)=\\tilde{h}(\\phi(x))\n",
    "\\end{equation}\n",
    "\n",
    "Thus, we can implement polynomial regression by a two-step procedure: \n",
    "\n",
    "* Step 1: Consider a set of $m$ datapoints (the training set). Each datapoint is characterized by a feature $x^{(i)}$. From this feature, compute the feature vector \n",
    "\\begin{equation}\n",
    "\\mathbf{x}^{(i)}=\\phi(x^{(i)})=(1, x^{(i)}, ..., (x^{(i)})^{n})^T \\in \\mathbb{R}^{n+1}. \n",
    "\\end{equation}\n",
    "Stack these feature vectors into a feature matrix $\\mathbf{X} = \\big(\\mathbf{x}^{(1)},\\ldots,\\mathbf{x}^{(m)}\\big)$. \n",
    "\n",
    "* Step 2: We then apply linear regression to the features in $\\mathbf{X}$. \n",
    "\n",
    "<strong><i><u>Your task<i></u></strong> is to use the same feature `X` and label `y` in Task 2.2 to fit polynomial regression models with varying degrees d=3, 5, 10. The `scikit-learn` class [`PolynomialFeatures()`](https://scikit-learn.org/stable/modules/generated/sklearn.preprocessing.PolynomialFeatures.html?highlight=polynomial#sklearn.preprocessing.PolynomialFeatures) allows to construct polynomial features via generating powers of a scalar feature. The method `PolynomialFeatures.fit_transform()` is for fitting and transforming the raw features. The classes of linear regression and training loss are the same as in task A2.2.\n",
    "\n",
    "</div>"
   ]
  },
  {
   "cell_type": "code",
   "execution_count": 67,
   "id": "e9d7556f",
   "metadata": {
    "deletable": false,
    "nbgrader": {
     "cell_type": "code",
     "checksum": "4aafbca41f3344d3d369e98d6b6601aa",
     "grade": false,
     "grade_id": "cell-87d72d120269e903",
     "locked": false,
     "schema_version": 3,
     "solution": true,
     "task": false
    },
    "tags": []
   },
   "outputs": [
    {
     "name": "stdout",
     "output_type": "stream",
     "text": [
      "(713, 1)\n",
      "Polynomial degree =  3\n",
      "The first two rows of X_poly: \n",
      " [[  1.     -2.6     6.76  -17.576]\n",
      " [  1.      1.8     3.24    5.832]]\n",
      "\n",
      "The learned weights: \n",
      " [ 5.66167983e+00  1.04645213e+00  8.75902040e-03 -1.27473569e-04]\n"
     ]
    },
    {
     "data": {
      "image/png": "[encoded data removed]",
      "text/plain": [
       "<Figure size 640x480 with 1 Axes>"
      ]
     },
     "metadata": {},
     "output_type": "display_data"
    },
    {
     "name": "stdout",
     "output_type": "stream",
     "text": [
      "Polynomial degree =  5\n",
      "The first two rows of X_poly: \n",
      " [[   1.        -2.6        6.76     -17.576     45.6976  -118.81376]\n",
      " [   1.         1.8        3.24       5.832     10.4976    18.89568]]\n",
      "\n",
      "The learned weights: \n",
      " [ 5.54138025e+00  1.00038517e+00  1.50842415e-02  1.43485632e-04\n",
      " -2.02506416e-05 -3.35108778e-07]\n"
     ]
    },
    {
     "data": {
      "image/png": "[encoded data removed]",
      "text/plain": [
       "<Figure size 640x480 with 1 Axes>"
      ]
     },
     "metadata": {},
     "output_type": "display_data"
    },
    {
     "name": "stdout",
     "output_type": "stream",
     "text": [
      "Polynomial degree =  10\n",
      "The first two rows of X_poly: \n",
      " [[ 1.00000000e+00 -2.60000000e+00  6.76000000e+00 -1.75760000e+01\n",
      "   4.56976000e+01 -1.18813760e+02  3.08915776e+02 -8.03181018e+02\n",
      "   2.08827065e+03 -5.42950368e+03  1.41167096e+04]\n",
      " [ 1.00000000e+00  1.80000000e+00  3.24000000e+00  5.83200000e+00\n",
      "   1.04976000e+01  1.88956800e+01  3.40122240e+01  6.12220032e+01\n",
      "   1.10199606e+02  1.98359290e+02  3.57046723e+02]]\n",
      "\n",
      "The learned weights: \n",
      " [ 5.39495695e+00  9.57799613e-01  2.88887655e-02  6.66256801e-04\n",
      " -9.71738525e-05 -1.08726773e-06 -4.27938855e-07 -2.93920220e-09\n",
      "  2.82296317e-09  5.31490477e-12 -3.58846286e-12]\n"
     ]
    },
    {
     "data": {
      "image/png": "[encoded data removed]",
      "text/plain": [
       "<Figure size 640x480 with 1 Axes>"
      ]
     },
     "metadata": {},
     "output_type": "display_data"
    }
   ],
   "source": [
    "## define a list of values for polynomial degrees \n",
    "degrees = [3, 5,10]    \n",
    "\n",
    "# declare a variable to store the resulting training errors for each polynomial degree\n",
    "tr_errors = []          \n",
    "print(X.shape)\n",
    "for i in range(len(degrees)):    # use for-loop to fit polynomial regression models with different degrees\n",
    "    \n",
    "    print(\"Polynomial degree = \",degrees[i])\n",
    "\n",
    "    poly = PolynomialFeatures(degree=degrees[i])# initialize a polynomial feature transformer \n",
    "    X_poly = poly.fit_transform(X, y) # fit and transform the raw features\n",
    "    \n",
    "    lin_regr = LinearRegression(fit_intercept=False) # NOTE: \"fit_intercept=False\" as we already have a constant iterm in the new feature X_poly\n",
    "    lin_regr.fit(X_poly, y)    # fit linear regression to these new features and labels (labels remain same)\n",
    "    \n",
    "    y_pred = lin_regr.predict(X_poly)    # predict using the learnt linear model\n",
    "    \n",
    "    tr_error = mean_squared_error(y, y_pred) # calculate the training error\n",
    "    \n",
    "    # sanity check the feature matrix is transformed correctly\n",
    "    assert X_poly.shape == (X.shape[0],degrees[i]+1), \"Wrong polynomial degree\" \n",
    "    \n",
    "    print(\"The first two rows of X_poly: \\n\",X_poly[0:2])\n",
    "    \n",
    "    print(\"\\nThe learned weights: \\n\",lin_regr.coef_)\n",
    "    \n",
    "    tr_errors.append(tr_error)\n",
    "    X_fit = np.linspace(-25, 25, 100)    # generate samples\n",
    "    plt.plot(X_fit, lin_regr.predict(poly.transform(X_fit.reshape(-1, 1))), label=\"Model\")    # plot the polynomial regression model\n",
    "    plt.scatter(X, y, color=\"b\", s=10, label=\"datapoints from the dataframe 'newdata'\")    # plot a scatter plot of y(maxtmp) vs. X(mintmp) with color 'blue' and size '10'\n",
    "    plt.xlabel('mintmp')    # set the label for the x/y-axis\n",
    "    plt.ylabel('maxtmp')\n",
    "    plt.legend(loc=\"best\")    # set the location of the legend\n",
    "    plt.title('Polynomial degree = {}\\nTraining error = {:.5}'.format(degrees[i], tr_error))    # set the title\n",
    "    plt.show()    # show the plot"
   ]
  },
  {
   "cell_type": "code",
   "execution_count": 68,
   "id": "f465542e",
   "metadata": {
    "deletable": false,
    "editable": false,
    "nbgrader": {
     "cell_type": "code",
     "checksum": "7d5bbbbb02c4031aa77232e042446267",
     "grade": true,
     "grade_id": "cell-96ea5b2b59e16741",
     "locked": true,
     "points": 1,
     "schema_version": 3,
     "solution": false,
     "task": false
    },
    "tags": []
   },
   "outputs": [],
   "source": [
    "# this cell is for tests\n",
    "\n",
    "# sanity check \n",
    "assert len(tr_errors) == 3 # check the length of array tr_errors\n"
   ]
  },
  {
   "cell_type": "markdown",
   "id": "5a24bd89",
   "metadata": {
    "deletable": false,
    "editable": false,
    "nbgrader": {
     "cell_type": "markdown",
     "checksum": "ad3e0b8bd6748d079e9ebfcddd2aa730",
     "grade": false,
     "grade_id": "cell-9999d3f5d1798c10",
     "locked": true,
     "schema_version": 3,
     "solution": false,
     "task": false
    }
   },
   "source": [
    "<div class=\" alert alert-warning\">\n",
    "    \n",
    "## Student Task A1.10\n",
    "\n",
    "This task requires you to study the effect of using different amount of training data for a fixed model. We will use polynomial regression with fixed degree 5. We will learn the parameters of the polynomial using a varying amount of datapoints from the dataset as the training set. \n",
    "\n",
    "</div>"
   ]
  },
  {
   "cell_type": "code",
   "execution_count": 71,
   "id": "6f3053cf",
   "metadata": {
    "deletable": false,
    "nbgrader": {
     "cell_type": "code",
     "checksum": "907705d12697ac5ff4da5a3d8c0e4426",
     "grade": false,
     "grade_id": "cell-2b4bef076865c7ae",
     "locked": false,
     "schema_version": 3,
     "solution": true,
     "task": false
    },
    "tags": []
   },
   "outputs": [
    {
     "name": "stdout",
     "output_type": "stream",
     "text": [
      "\n",
      "Number of datapoints in this subset:  71\n"
     ]
    },
    {
     "data": {
      "image/png": "[encoded data removed]",
      "text/plain": [
       "<Figure size 640x480 with 1 Axes>"
      ]
     },
     "metadata": {},
     "output_type": "display_data"
    },
    {
     "name": "stdout",
     "output_type": "stream",
     "text": [
      "\n",
      "Number of datapoints in this subset:  285\n"
     ]
    },
    {
     "data": {
      "image/png": "[encoded data removed]",
      "text/plain": [
       "<Figure size 640x480 with 1 Axes>"
      ]
     },
     "metadata": {},
     "output_type": "display_data"
    },
    {
     "name": "stdout",
     "output_type": "stream",
     "text": [
      "\n",
      "Number of datapoints in this subset:  427\n"
     ]
    },
    {
     "data": {
      "image/png": "[encoded data removed]",
      "text/plain": [
       "<Figure size 640x480 with 1 Axes>"
      ]
     },
     "metadata": {},
     "output_type": "display_data"
    }
   ],
   "source": [
    "trainingset_size = [0.1, 0.4, 0.6]    # set the different sizes of training set\n",
    "degree = 5                          # set the degree\n",
    "tr_errors = []                      # store training errors\n",
    "\n",
    "for i in range(len(trainingset_size)):    # use for-loop to fit polynomial regression models with different sizes of training set\n",
    "    index = np.arange(int(len(X)*trainingset_size[i]))\n",
    "    print(\"\\nNumber of datapoints in this subset: \",len(index))\n",
    "\n",
    "    X_sub = X[index]    # obtain a subset, NOTE: this is the subset of features you will use for this task\n",
    "    y_sub = y[index]    # NOTE: this is the subset of labels you will use for this task\n",
    "    \n",
    "    ## apply polynomial transformation, train different models and compute MSE on sub_trainingset (X_sub,y_sub) as:\n",
    "    # poly = ...    # initialize a polynomial feature transformer \n",
    "    # X_poly = ...    # fit and transform the raw features, i.e. X_sub\n",
    "    \n",
    "    # lin_regr = LinearRegression(fit_intercept=False) # NOTE: \"fit_intercept=False\" as we already have a constant iterm in the new feature X_poly\n",
    "    # lin_regr.fit(...,...)    # fit linear regression to these new polynomial features and labels\n",
    "    \n",
    "    # y_pred = ...    # predict using the learnt linear model\n",
    "    # tr_error = ...    # calculate the training error\n",
    "\n",
    "    poly = PolynomialFeatures(degree=degree)\n",
    "    X_poly = poly.fit_transform(X_sub, y_sub)\n",
    "\n",
    "    lin_regr = LinearRegression(fit_intercept=False)\n",
    "    lin_regr.fit(X_poly, y_sub)\n",
    "\n",
    "    y_pred = lin_regr.predict(X_poly)\n",
    "    tr_error = mean_squared_error(y_sub, y_pred)\n",
    "    \n",
    "    tr_errors.append(tr_error)\n",
    "    X_fit = np.linspace(-20, 20, 100)    # generate samples\n",
    "    plt.plot(X_fit, lin_regr.predict(poly.transform(X_fit.reshape(-1, 1))), label=\"learnt hypothesis\")        # plot the polynomial regression model\n",
    "    plt.scatter(X_sub, y_sub, color=\"b\", s=10, label=\"Datapoints \")    # plot a scatter plot of y(maxtmp) vs. X(mintmp) with color 'blue' and size '10'\n",
    "    plt.xlabel('mintemp')    # set the label for the x/y-axis\n",
    "    plt.ylabel('maxtemp')\n",
    "    plt.legend(loc=\"best\")    # set the location of the legend\n",
    "    plt.title('Training error = {:.5}'.format(tr_error))    # set the title\n",
    "    plt.show()    # show the plot"
   ]
  },
  {
   "cell_type": "code",
   "execution_count": 72,
   "id": "f7cfc55b",
   "metadata": {
    "deletable": false,
    "editable": false,
    "nbgrader": {
     "cell_type": "code",
     "checksum": "9120a9cd763d7d94c3187bf6e372134c",
     "grade": true,
     "grade_id": "cell-48f80a7a9f5718f5",
     "locked": true,
     "points": 1,
     "schema_version": 3,
     "solution": false,
     "task": false
    },
    "tags": []
   },
   "outputs": [],
   "source": [
    "# this cell is for tests\n",
    "\n",
    "# sanity check\n",
    "assert X_poly.shape[1] == 6, \"Wrong dimension, you should use degree=5 for PolynomialFeatures() \"\n",
    "assert len(tr_errors) == 3 # check the shape of the array tr_errors\n",
    "assert np.isclose(tr_error,9.18756), \"Incorrect training error, you might be using a wrong training set\"\n"
   ]
  }
 ],
 "metadata": {
  "kernelspec": {
   "display_name": "Python 3",
   "language": "python",
   "name": "python3"
  },
  "language_info": {
   "codemirror_mode": {
    "name": "ipython",
    "version": 3
   },
   "file_extension": ".py",
   "mimetype": "text/x-python",
   "name": "python",
   "nbconvert_exporter": "python",
   "pygments_lexer": "ipython3",
   "version": "3.8.9"
  },
  "latex_envs": {
   "LaTeX_envs_menu_present": true,
   "autoclose": false,
   "autocomplete": true,
   "bibliofile": "biblio.bib",
   "cite_by": "apalike",
   "current_citInitial": 1,
   "eqLabelWithNumbers": true,
   "eqNumInitial": 1,
   "hotkeys": {
    "equation": "Ctrl-E",
    "itemize": "Ctrl-I"
   },
   "labels_anchors": false,
   "latex_user_defs": false,
   "report_style_numbering": false,
   "user_envs_cfg": false
  },
  "toc": {
   "base_numbering": 1,
   "nav_menu": {},
   "number_sections": true,
   "sideBar": true,
   "skip_h1_title": false,
   "title_cell": "Table of Contents",
   "title_sidebar": "Contents",
   "toc_cell": false,
   "toc_position": {
    "height": "calc(100% - 180px)",
    "left": "10px",
    "top": "150px",
    "width": "301.17645263671875px"
   },
   "toc_section_display": true,
   "toc_window_display": false
  },
  "varInspector": {
   "cols": {
    "lenName": 16,
    "lenType": 16,
    "lenVar": 40
   },
   "kernels_config": {
    "python": {
     "delete_cmd_postfix": "",
     "delete_cmd_prefix": "del ",
     "library": "var_list.py",
     "varRefreshCmd": "print(var_dic_list())"
    },
    "r": {
     "delete_cmd_postfix": ") ",
     "delete_cmd_prefix": "rm(",
     "library": "var_list.r",
     "varRefreshCmd": "cat(var_dic_list()) "
    }
   },
   "types_to_exclude": [
    "module",
    "function",
    "builtin_function_or_method",
    "instance",
    "_Feature"
   ],
   "window_display": false
  }
 },
 "nbformat": 4,
 "nbformat_minor": 5
}
